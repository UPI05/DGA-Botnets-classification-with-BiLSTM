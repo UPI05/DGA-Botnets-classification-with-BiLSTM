{
  "nbformat": 4,
  "nbformat_minor": 0,
  "metadata": {
    "colab": {
      "provenance": []
    },
    "kernelspec": {
      "name": "python3",
      "display_name": "Python 3"
    },
    "language_info": {
      "name": "python"
    }
  },
  "cells": [
    {
      "cell_type": "code",
      "execution_count": null,
      "metadata": {
        "id": "fAxAWqqRHlhh"
      },
      "outputs": [],
      "source": [
        "import numpy as np\n",
        "import os\n",
        "import random\n",
        "import csv\n",
        "import collections\n",
        "import math\n",
        "import pandas as pd\n",
        "from keras.preprocessing import sequence\n",
        "from keras.models import Sequential\n",
        "from keras.layers import Dense, Dropout, Activation\n",
        "from keras.layers import Embedding\n",
        "from keras.layers import Bidirectional, LSTM\n",
        "from sklearn.model_selection import train_test_split\n",
        "from sklearn.metrics import accuracy_score, precision_score, recall_score, f1_score, roc_curve, auc, roc_auc_score\n",
        "import matplotlib.pyplot as plt"
      ]
    },
    {
      "cell_type": "code",
      "source": [
        "df = pd.read_csv('/content/drive/MyDrive/traindga5.csv')"
      ],
      "metadata": {
        "id": "dAyMYCNBH0Gs"
      },
      "execution_count": null,
      "outputs": []
    },
    {
      "cell_type": "code",
      "source": [
        "df = df.dropna()"
      ],
      "metadata": {
        "id": "mBU0n5eTNssN"
      },
      "execution_count": null,
      "outputs": []
    },
    {
      "cell_type": "code",
      "source": [
        "df.head()"
      ],
      "metadata": {
        "colab": {
          "base_uri": "https://localhost:8080/",
          "height": 206
        },
        "id": "hKeOjXTMJpDV",
        "outputId": "0ddcaebd-7a1b-4633-ce2b-66ddb0d54383"
      },
      "execution_count": null,
      "outputs": [
        {
          "output_type": "execute_result",
          "data": {
            "text/plain": [
              "   legit  alexa     youtube      -0.8  0.0615473378    1  -0.8062361783  \\\n",
              "0  legit  alexa          vk -0.966667     -0.579025 -1.0      -1.000000   \n",
              "1  legit  alexa  aliexpress -0.700000      0.230058  1.0      -0.609187   \n",
              "2  legit  alexa     pornhub -0.800000      0.181826  1.0      -0.878869   \n",
              "3  legit  alexa  livejasmin -0.700000      0.314253  1.0      -0.787137   \n",
              "4  legit  alexa      popads -0.833333     -0.052121  1.0      -0.897885   \n",
              "\n",
              "   -0.7826991542  -0.760304862  -0.7321765588  -0.8396402652        -1  \n",
              "0      -0.962000     -0.972786      -1.000000      -1.000000 -1.000000  \n",
              "1      -0.670833     -0.622968      -0.608980      -0.666030 -0.636043  \n",
              "2      -0.782895     -0.763826      -0.830235      -0.903668 -1.000000  \n",
              "3      -0.676048     -0.636485      -0.653389      -0.911703 -1.000000  \n",
              "4      -0.814695     -0.794943      -0.808468      -1.000000 -1.000000  "
            ],
            "text/html": [
              "\n",
              "  <div id=\"df-6e7a4e82-3c5b-4eb1-8090-c625edcf5816\" class=\"colab-df-container\">\n",
              "    <div>\n",
              "<style scoped>\n",
              "    .dataframe tbody tr th:only-of-type {\n",
              "        vertical-align: middle;\n",
              "    }\n",
              "\n",
              "    .dataframe tbody tr th {\n",
              "        vertical-align: top;\n",
              "    }\n",
              "\n",
              "    .dataframe thead th {\n",
              "        text-align: right;\n",
              "    }\n",
              "</style>\n",
              "<table border=\"1\" class=\"dataframe\">\n",
              "  <thead>\n",
              "    <tr style=\"text-align: right;\">\n",
              "      <th></th>\n",
              "      <th>legit</th>\n",
              "      <th>alexa</th>\n",
              "      <th>youtube</th>\n",
              "      <th>-0.8</th>\n",
              "      <th>0.0615473378</th>\n",
              "      <th>1</th>\n",
              "      <th>-0.8062361783</th>\n",
              "      <th>-0.7826991542</th>\n",
              "      <th>-0.760304862</th>\n",
              "      <th>-0.7321765588</th>\n",
              "      <th>-0.8396402652</th>\n",
              "      <th>-1</th>\n",
              "    </tr>\n",
              "  </thead>\n",
              "  <tbody>\n",
              "    <tr>\n",
              "      <th>0</th>\n",
              "      <td>legit</td>\n",
              "      <td>alexa</td>\n",
              "      <td>vk</td>\n",
              "      <td>-0.966667</td>\n",
              "      <td>-0.579025</td>\n",
              "      <td>-1.0</td>\n",
              "      <td>-1.000000</td>\n",
              "      <td>-0.962000</td>\n",
              "      <td>-0.972786</td>\n",
              "      <td>-1.000000</td>\n",
              "      <td>-1.000000</td>\n",
              "      <td>-1.000000</td>\n",
              "    </tr>\n",
              "    <tr>\n",
              "      <th>1</th>\n",
              "      <td>legit</td>\n",
              "      <td>alexa</td>\n",
              "      <td>aliexpress</td>\n",
              "      <td>-0.700000</td>\n",
              "      <td>0.230058</td>\n",
              "      <td>1.0</td>\n",
              "      <td>-0.609187</td>\n",
              "      <td>-0.670833</td>\n",
              "      <td>-0.622968</td>\n",
              "      <td>-0.608980</td>\n",
              "      <td>-0.666030</td>\n",
              "      <td>-0.636043</td>\n",
              "    </tr>\n",
              "    <tr>\n",
              "      <th>2</th>\n",
              "      <td>legit</td>\n",
              "      <td>alexa</td>\n",
              "      <td>pornhub</td>\n",
              "      <td>-0.800000</td>\n",
              "      <td>0.181826</td>\n",
              "      <td>1.0</td>\n",
              "      <td>-0.878869</td>\n",
              "      <td>-0.782895</td>\n",
              "      <td>-0.763826</td>\n",
              "      <td>-0.830235</td>\n",
              "      <td>-0.903668</td>\n",
              "      <td>-1.000000</td>\n",
              "    </tr>\n",
              "    <tr>\n",
              "      <th>3</th>\n",
              "      <td>legit</td>\n",
              "      <td>alexa</td>\n",
              "      <td>livejasmin</td>\n",
              "      <td>-0.700000</td>\n",
              "      <td>0.314253</td>\n",
              "      <td>1.0</td>\n",
              "      <td>-0.787137</td>\n",
              "      <td>-0.676048</td>\n",
              "      <td>-0.636485</td>\n",
              "      <td>-0.653389</td>\n",
              "      <td>-0.911703</td>\n",
              "      <td>-1.000000</td>\n",
              "    </tr>\n",
              "    <tr>\n",
              "      <th>4</th>\n",
              "      <td>legit</td>\n",
              "      <td>alexa</td>\n",
              "      <td>popads</td>\n",
              "      <td>-0.833333</td>\n",
              "      <td>-0.052121</td>\n",
              "      <td>1.0</td>\n",
              "      <td>-0.897885</td>\n",
              "      <td>-0.814695</td>\n",
              "      <td>-0.794943</td>\n",
              "      <td>-0.808468</td>\n",
              "      <td>-1.000000</td>\n",
              "      <td>-1.000000</td>\n",
              "    </tr>\n",
              "  </tbody>\n",
              "</table>\n",
              "</div>\n",
              "    <div class=\"colab-df-buttons\">\n",
              "\n",
              "  <div class=\"colab-df-container\">\n",
              "    <button class=\"colab-df-convert\" onclick=\"convertToInteractive('df-6e7a4e82-3c5b-4eb1-8090-c625edcf5816')\"\n",
              "            title=\"Convert this dataframe to an interactive table.\"\n",
              "            style=\"display:none;\">\n",
              "\n",
              "  <svg xmlns=\"http://www.w3.org/2000/svg\" height=\"24px\" viewBox=\"0 -960 960 960\">\n",
              "    <path d=\"M120-120v-720h720v720H120Zm60-500h600v-160H180v160Zm220 220h160v-160H400v160Zm0 220h160v-160H400v160ZM180-400h160v-160H180v160Zm440 0h160v-160H620v160ZM180-180h160v-160H180v160Zm440 0h160v-160H620v160Z\"/>\n",
              "  </svg>\n",
              "    </button>\n",
              "\n",
              "  <style>\n",
              "    .colab-df-container {\n",
              "      display:flex;\n",
              "      gap: 12px;\n",
              "    }\n",
              "\n",
              "    .colab-df-convert {\n",
              "      background-color: #E8F0FE;\n",
              "      border: none;\n",
              "      border-radius: 50%;\n",
              "      cursor: pointer;\n",
              "      display: none;\n",
              "      fill: #1967D2;\n",
              "      height: 32px;\n",
              "      padding: 0 0 0 0;\n",
              "      width: 32px;\n",
              "    }\n",
              "\n",
              "    .colab-df-convert:hover {\n",
              "      background-color: #E2EBFA;\n",
              "      box-shadow: 0px 1px 2px rgba(60, 64, 67, 0.3), 0px 1px 3px 1px rgba(60, 64, 67, 0.15);\n",
              "      fill: #174EA6;\n",
              "    }\n",
              "\n",
              "    .colab-df-buttons div {\n",
              "      margin-bottom: 4px;\n",
              "    }\n",
              "\n",
              "    [theme=dark] .colab-df-convert {\n",
              "      background-color: #3B4455;\n",
              "      fill: #D2E3FC;\n",
              "    }\n",
              "\n",
              "    [theme=dark] .colab-df-convert:hover {\n",
              "      background-color: #434B5C;\n",
              "      box-shadow: 0px 1px 3px 1px rgba(0, 0, 0, 0.15);\n",
              "      filter: drop-shadow(0px 1px 2px rgba(0, 0, 0, 0.3));\n",
              "      fill: #FFFFFF;\n",
              "    }\n",
              "  </style>\n",
              "\n",
              "    <script>\n",
              "      const buttonEl =\n",
              "        document.querySelector('#df-6e7a4e82-3c5b-4eb1-8090-c625edcf5816 button.colab-df-convert');\n",
              "      buttonEl.style.display =\n",
              "        google.colab.kernel.accessAllowed ? 'block' : 'none';\n",
              "\n",
              "      async function convertToInteractive(key) {\n",
              "        const element = document.querySelector('#df-6e7a4e82-3c5b-4eb1-8090-c625edcf5816');\n",
              "        const dataTable =\n",
              "          await google.colab.kernel.invokeFunction('convertToInteractive',\n",
              "                                                    [key], {});\n",
              "        if (!dataTable) return;\n",
              "\n",
              "        const docLinkHtml = 'Like what you see? Visit the ' +\n",
              "          '<a target=\"_blank\" href=https://colab.research.google.com/notebooks/data_table.ipynb>data table notebook</a>'\n",
              "          + ' to learn more about interactive tables.';\n",
              "        element.innerHTML = '';\n",
              "        dataTable['output_type'] = 'display_data';\n",
              "        await google.colab.output.renderOutput(dataTable, element);\n",
              "        const docLink = document.createElement('div');\n",
              "        docLink.innerHTML = docLinkHtml;\n",
              "        element.appendChild(docLink);\n",
              "      }\n",
              "    </script>\n",
              "  </div>\n",
              "\n",
              "\n",
              "<div id=\"df-b8fcab51-1c1b-43cd-80c0-93251613504b\">\n",
              "  <button class=\"colab-df-quickchart\" onclick=\"quickchart('df-b8fcab51-1c1b-43cd-80c0-93251613504b')\"\n",
              "            title=\"Suggest charts\"\n",
              "            style=\"display:none;\">\n",
              "\n",
              "<svg xmlns=\"http://www.w3.org/2000/svg\" height=\"24px\"viewBox=\"0 0 24 24\"\n",
              "     width=\"24px\">\n",
              "    <g>\n",
              "        <path d=\"M19 3H5c-1.1 0-2 .9-2 2v14c0 1.1.9 2 2 2h14c1.1 0 2-.9 2-2V5c0-1.1-.9-2-2-2zM9 17H7v-7h2v7zm4 0h-2V7h2v10zm4 0h-2v-4h2v4z\"/>\n",
              "    </g>\n",
              "</svg>\n",
              "  </button>\n",
              "\n",
              "<style>\n",
              "  .colab-df-quickchart {\n",
              "      --bg-color: #E8F0FE;\n",
              "      --fill-color: #1967D2;\n",
              "      --hover-bg-color: #E2EBFA;\n",
              "      --hover-fill-color: #174EA6;\n",
              "      --disabled-fill-color: #AAA;\n",
              "      --disabled-bg-color: #DDD;\n",
              "  }\n",
              "\n",
              "  [theme=dark] .colab-df-quickchart {\n",
              "      --bg-color: #3B4455;\n",
              "      --fill-color: #D2E3FC;\n",
              "      --hover-bg-color: #434B5C;\n",
              "      --hover-fill-color: #FFFFFF;\n",
              "      --disabled-bg-color: #3B4455;\n",
              "      --disabled-fill-color: #666;\n",
              "  }\n",
              "\n",
              "  .colab-df-quickchart {\n",
              "    background-color: var(--bg-color);\n",
              "    border: none;\n",
              "    border-radius: 50%;\n",
              "    cursor: pointer;\n",
              "    display: none;\n",
              "    fill: var(--fill-color);\n",
              "    height: 32px;\n",
              "    padding: 0;\n",
              "    width: 32px;\n",
              "  }\n",
              "\n",
              "  .colab-df-quickchart:hover {\n",
              "    background-color: var(--hover-bg-color);\n",
              "    box-shadow: 0 1px 2px rgba(60, 64, 67, 0.3), 0 1px 3px 1px rgba(60, 64, 67, 0.15);\n",
              "    fill: var(--button-hover-fill-color);\n",
              "  }\n",
              "\n",
              "  .colab-df-quickchart-complete:disabled,\n",
              "  .colab-df-quickchart-complete:disabled:hover {\n",
              "    background-color: var(--disabled-bg-color);\n",
              "    fill: var(--disabled-fill-color);\n",
              "    box-shadow: none;\n",
              "  }\n",
              "\n",
              "  .colab-df-spinner {\n",
              "    border: 2px solid var(--fill-color);\n",
              "    border-color: transparent;\n",
              "    border-bottom-color: var(--fill-color);\n",
              "    animation:\n",
              "      spin 1s steps(1) infinite;\n",
              "  }\n",
              "\n",
              "  @keyframes spin {\n",
              "    0% {\n",
              "      border-color: transparent;\n",
              "      border-bottom-color: var(--fill-color);\n",
              "      border-left-color: var(--fill-color);\n",
              "    }\n",
              "    20% {\n",
              "      border-color: transparent;\n",
              "      border-left-color: var(--fill-color);\n",
              "      border-top-color: var(--fill-color);\n",
              "    }\n",
              "    30% {\n",
              "      border-color: transparent;\n",
              "      border-left-color: var(--fill-color);\n",
              "      border-top-color: var(--fill-color);\n",
              "      border-right-color: var(--fill-color);\n",
              "    }\n",
              "    40% {\n",
              "      border-color: transparent;\n",
              "      border-right-color: var(--fill-color);\n",
              "      border-top-color: var(--fill-color);\n",
              "    }\n",
              "    60% {\n",
              "      border-color: transparent;\n",
              "      border-right-color: var(--fill-color);\n",
              "    }\n",
              "    80% {\n",
              "      border-color: transparent;\n",
              "      border-right-color: var(--fill-color);\n",
              "      border-bottom-color: var(--fill-color);\n",
              "    }\n",
              "    90% {\n",
              "      border-color: transparent;\n",
              "      border-bottom-color: var(--fill-color);\n",
              "    }\n",
              "  }\n",
              "</style>\n",
              "\n",
              "  <script>\n",
              "    async function quickchart(key) {\n",
              "      const quickchartButtonEl =\n",
              "        document.querySelector('#' + key + ' button');\n",
              "      quickchartButtonEl.disabled = true;  // To prevent multiple clicks.\n",
              "      quickchartButtonEl.classList.add('colab-df-spinner');\n",
              "      try {\n",
              "        const charts = await google.colab.kernel.invokeFunction(\n",
              "            'suggestCharts', [key], {});\n",
              "      } catch (error) {\n",
              "        console.error('Error during call to suggestCharts:', error);\n",
              "      }\n",
              "      quickchartButtonEl.classList.remove('colab-df-spinner');\n",
              "      quickchartButtonEl.classList.add('colab-df-quickchart-complete');\n",
              "    }\n",
              "    (() => {\n",
              "      let quickchartButtonEl =\n",
              "        document.querySelector('#df-b8fcab51-1c1b-43cd-80c0-93251613504b button');\n",
              "      quickchartButtonEl.style.display =\n",
              "        google.colab.kernel.accessAllowed ? 'block' : 'none';\n",
              "    })();\n",
              "  </script>\n",
              "</div>\n",
              "\n",
              "    </div>\n",
              "  </div>\n"
            ],
            "application/vnd.google.colaboratory.intrinsic+json": {
              "type": "dataframe",
              "variable_name": "df"
            }
          },
          "metadata": {},
          "execution_count": 122
        }
      ]
    },
    {
      "cell_type": "code",
      "source": [
        "# Lấy binary labels\n",
        "binary_labels = [row[0] for idx, row in df.iterrows()]\n",
        "binary_labels[:10]"
      ],
      "metadata": {
        "colab": {
          "base_uri": "https://localhost:8080/"
        },
        "id": "mNZeIQKcJs0L",
        "outputId": "61f17507-c69d-46c6-fed6-72b24ca85663"
      },
      "execution_count": null,
      "outputs": [
        {
          "output_type": "execute_result",
          "data": {
            "text/plain": [
              "['legit',\n",
              " 'legit',\n",
              " 'legit',\n",
              " 'legit',\n",
              " 'legit',\n",
              " 'legit',\n",
              " 'legit',\n",
              " 'legit',\n",
              " 'legit',\n",
              " 'legit']"
            ]
          },
          "metadata": {},
          "execution_count": 123
        }
      ]
    },
    {
      "cell_type": "code",
      "source": [
        "# Lấy danh sách domain\n",
        "X = [row[2] for idx, row in df.iterrows()]\n",
        "X[:10]"
      ],
      "metadata": {
        "colab": {
          "base_uri": "https://localhost:8080/"
        },
        "id": "Nj5bIW3qKzYu",
        "outputId": "ed447a86-ac2e-4968-f6be-917321606f57"
      },
      "execution_count": null,
      "outputs": [
        {
          "output_type": "execute_result",
          "data": {
            "text/plain": [
              "['vk',\n",
              " 'aliexpress',\n",
              " 'pornhub',\n",
              " 'livejasmin',\n",
              " 'popads',\n",
              " 'microsoftonline',\n",
              " 'wikia',\n",
              " 'bongacams',\n",
              " 'xvideos',\n",
              " 'detik']"
            ]
          },
          "metadata": {},
          "execution_count": 124
        }
      ]
    },
    {
      "cell_type": "code",
      "source": [
        "# Lấy danh sách labels (multi-class)\n",
        "labels = [row[1] for idx, row in df.iterrows()]\n",
        "labels[:10]"
      ],
      "metadata": {
        "colab": {
          "base_uri": "https://localhost:8080/"
        },
        "id": "pFUsXX8tLEaV",
        "outputId": "0740e648-d81e-4be2-fac6-8878a08f147d"
      },
      "execution_count": null,
      "outputs": [
        {
          "output_type": "execute_result",
          "data": {
            "text/plain": [
              "['alexa',\n",
              " 'alexa',\n",
              " 'alexa',\n",
              " 'alexa',\n",
              " 'alexa',\n",
              " 'alexa',\n",
              " 'alexa',\n",
              " 'alexa',\n",
              " 'alexa',\n",
              " 'alexa']"
            ]
          },
          "metadata": {},
          "execution_count": 125
        }
      ]
    },
    {
      "cell_type": "code",
      "source": [
        "# Tạo dictionary, ánh xạ mỗi kí tự sang 1 số nguyên\n",
        "valid_chars = {x: idx + 1 for idx, x in enumerate(set(''.join(X)))}\n",
        "\n",
        "max_features = len(valid_chars) + 1\n",
        "maxlen = np.max([len(x) for x in X])"
      ],
      "metadata": {
        "id": "wipaFsHcLcIF"
      },
      "execution_count": null,
      "outputs": []
    },
    {
      "cell_type": "code",
      "source": [
        "# Ánh xạ và padding\n",
        "X = [[valid_chars[y] for y in x] for x in X]\n",
        "X = sequence.pad_sequences(X, maxlen=maxlen)"
      ],
      "metadata": {
        "id": "kvJXwWttchlK"
      },
      "execution_count": null,
      "outputs": []
    },
    {
      "cell_type": "code",
      "source": [
        "# Encode label\n",
        "y_binary = np.array([0 if x == 'legit' else 1 for x in binary_labels])\n",
        "valid_class = {i:indx for indx, i in enumerate(set(labels))}\n",
        "y = [valid_class[x] for x in labels]\n",
        "y = np.array(y)\n",
        "\n",
        "print(y_binary[:10])\n",
        "print('--------------')\n",
        "print(y[:10])"
      ],
      "metadata": {
        "colab": {
          "base_uri": "https://localhost:8080/"
        },
        "id": "VXXKXpAqL47u",
        "outputId": "289425b2-3aac-4462-e72f-caa436f070e4"
      },
      "execution_count": null,
      "outputs": [
        {
          "output_type": "stream",
          "name": "stdout",
          "text": [
            "[0 0 0 0 0 0 0 0 0 0]\n",
            "--------------\n",
            "[37 37 37 37 37 37 37 37 37 37]\n"
          ]
        }
      ]
    },
    {
      "cell_type": "code",
      "source": [
        "def build_binary_model(max_features, maxlen):\n",
        "    \"\"\"Build LSTM model for two-class classification using Bi-LSTM\"\"\"\n",
        "    model = Sequential()\n",
        "    model.add(Embedding(max_features, 128, input_length=maxlen))\n",
        "    model.add(Bidirectional(LSTM(128)))\n",
        "    model.add(Dropout(0.5))\n",
        "    model.add(Dense(1))\n",
        "    model.add(Activation('sigmoid'))\n",
        "\n",
        "    model.compile(loss='binary_crossentropy', optimizer='rmsprop')\n",
        "\n",
        "    return model\n",
        "\n",
        "def build_multiclass_model(max_features, maxlen):\n",
        "    \"\"\"Build multiclass LSTM model for multiclass classification using Bi-LSTM\"\"\"\n",
        "    model = Sequential()\n",
        "    model.add(Embedding(max_features, 128, input_length=maxlen))\n",
        "    model.add(Bidirectional(LSTM(128)))\n",
        "    model.add(Dropout(0.5))\n",
        "    model.add(Dense(38))  # Có 38 loại\n",
        "    model.add(Activation('softmax'))\n",
        "\n",
        "    model.compile(loss='sparse_categorical_crossentropy', optimizer='rmsprop')\n",
        "\n",
        "    return model"
      ],
      "metadata": {
        "id": "ZQ2PZ4p-OwHY"
      },
      "execution_count": null,
      "outputs": []
    },
    {
      "cell_type": "code",
      "source": [
        "def create_class_weight(labels_dict, mu):\n",
        "    \"\"\"Create weight based on the number of domain name in the dataset\"\"\"\n",
        "    total = np.sum(list(labels_dict.values()))\n",
        "    class_weight = dict()\n",
        "\n",
        "    for key in labels_dict.keys():\n",
        "        # Calculate the class weight using the provided formula\n",
        "        score = math.pow(total / float(labels_dict[key]), mu)\n",
        "        class_weight[key] = score\n",
        "\n",
        "    return class_weight"
      ],
      "metadata": {
        "id": "mCDpI4oEQieu"
      },
      "execution_count": null,
      "outputs": []
    },
    {
      "cell_type": "code",
      "source": [
        "# Chia tập dữ liệu cho bài toán phân loại nhị phân\n",
        "X_train_bin, X_test_bin, y_train_bin, y_test_bin = train_test_split(X, y_binary, test_size=0.3, random_state=42, stratify=y_binary)\n",
        "\n",
        "# Chia tập dữ liệu cho bài toán phân loại đa lớp\n",
        "X_train, X_test, y_train, y_test = train_test_split(X, y, test_size=0.3, random_state=42, stratify=y)"
      ],
      "metadata": {
        "id": "gYbKKvyGRBf5"
      },
      "execution_count": null,
      "outputs": []
    },
    {
      "cell_type": "code",
      "source": [
        "print(X_train_bin.shape)\n",
        "print(y_train_bin.shape)\n",
        "print(X_test_bin.shape)\n",
        "print(y_test_bin.shape)\n",
        "\n",
        "print(X_train.shape)\n",
        "print(y_train.shape)\n",
        "print(X_test.shape)\n",
        "print(y_test.shape)"
      ],
      "metadata": {
        "colab": {
          "base_uri": "https://localhost:8080/"
        },
        "id": "kHSVui5eoUZb",
        "outputId": "ceb1c230-7b3e-4adf-a5db-9c7f4f9e6edc"
      },
      "execution_count": null,
      "outputs": [
        {
          "output_type": "stream",
          "name": "stdout",
          "text": [
            "(118891, 61)\n",
            "(118891,)\n",
            "(50954, 61)\n",
            "(50954,)\n",
            "(118891, 61)\n",
            "(118891,)\n",
            "(50954, 61)\n",
            "(50954,)\n"
          ]
        }
      ]
    },
    {
      "cell_type": "code",
      "source": [
        "# Tạo model\n",
        "binary_model = build_binary_model(max_features, maxlen)\n",
        "model = build_multiclass_model(max_features, maxlen)"
      ],
      "metadata": {
        "id": "Wg614ubKSBEe"
      },
      "execution_count": null,
      "outputs": []
    },
    {
      "cell_type": "code",
      "source": [
        "EPOCHS = 20"
      ],
      "metadata": {
        "id": "WUz001ZVUA93"
      },
      "execution_count": null,
      "outputs": []
    },
    {
      "cell_type": "code",
      "source": [
        "def evaluate_model(y_true, y_pred, y_pred_proba, model_type='binary'):\n",
        "    # Tính các chỉ số đánh giá\n",
        "    acc = accuracy_score(y_true, y_pred)\n",
        "    prec = precision_score(y_true, y_pred, average='binary' if model_type == 'binary' else 'weighted')\n",
        "    rec = recall_score(y_true, y_pred, average='binary' if model_type == 'binary' else 'weighted')\n",
        "    f1 = f1_score(y_true, y_pred, average='binary' if model_type == 'binary' else 'weighted')\n",
        "\n",
        "    # In các chỉ số\n",
        "    print(f\"Accuracy: {acc}\")\n",
        "    print(f\"Precision: {prec}\")\n",
        "    print(f\"Recall: {rec}\")\n",
        "    print(f\"F1 Score: {f1}\")\n",
        "\n",
        "    # Vẽ đường cong ROC và tính AUC\n",
        "    if model_type == 'binary':\n",
        "        fpr, tpr, thresholds = roc_curve(y_true, y_pred_proba)\n",
        "        roc_auc = auc(fpr, tpr)\n",
        "    elif model_type == 'multiclass':\n",
        "        # Tính AUC cho phân loại đa lớp\n",
        "        roc_auc = roc_auc_score(y_true, y_pred_proba, multi_class='ovr')\n",
        "\n",
        "    plt.figure()\n",
        "    if model_type == 'binary':\n",
        "        plt.plot(fpr, tpr, color='darkorange', lw=2, label=f'ROC curve (area = {roc_auc:.2f})')\n",
        "        plt.plot([0, 1], [0, 1], color='navy', lw=2, linestyle='--')\n",
        "    elif model_type == 'multiclass':\n",
        "        # Không vẽ đường cong ROC cho phân loại đa lớp ở đây\n",
        "        plt.title('Multiclass classification - ROC AUC provided')\n",
        "    plt.xlim([0.0, 1.0])\n",
        "    plt.ylim([0.0, 1.05])\n",
        "    plt.xlabel('False Positive Rate')\n",
        "    plt.ylabel('True Positive Rate')\n",
        "    plt.title('Receiver Operating Characteristic')\n",
        "    plt.legend(loc=\"lower right\")\n",
        "    plt.show()\n",
        "\n",
        "    return acc, prec, rec, f1, roc_auc"
      ],
      "metadata": {
        "id": "4UnF69yGVpfo"
      },
      "execution_count": null,
      "outputs": []
    },
    {
      "cell_type": "code",
      "source": [
        "# BINARY-CLASS\n",
        "\n",
        "# Train\n",
        "labels_dict=collections.Counter(y_train_bin)\n",
        "class_weight = create_class_weight(labels_dict, 0.1)\n",
        "binary_model.fit(X_train_bin, y_train_bin, batch_size=128, epochs=1, class_weight=class_weight)\n",
        "\n",
        "y_pred_bin_probs = binary_model.predict(X_test_bin)\n",
        "print(y_pred_bin_probs[:5])"
      ],
      "metadata": {
        "id": "Pl5SKq6Ian39"
      },
      "execution_count": null,
      "outputs": []
    },
    {
      "cell_type": "code",
      "source": [
        "\n",
        "y_pred_bin = [0 if(x<=0.5) else 1 for x in y_pred_bin_probs]"
      ],
      "metadata": {
        "id": "2KVsC3EKpCGV"
      },
      "execution_count": null,
      "outputs": []
    },
    {
      "cell_type": "code",
      "source": [
        "# Đánh giá\n",
        "evaluate_model(y_test_bin, y_pred_bin, y_pred_bin_probs, model_type='binary')"
      ],
      "metadata": {
        "id": "b73X9mF_hPAS"
      },
      "execution_count": null,
      "outputs": []
    },
    {
      "cell_type": "code",
      "source": [
        "# MULTI-CLASS\n",
        "\n",
        "# Train\n",
        "labels_dict=collections.Counter(y_train)\n",
        "class_weight = create_class_weight(labels_dict, 0.1)\n",
        "model.fit(X_train, y_train, batch_size=128, epochs=1, class_weight=class_weight)\n",
        "\n",
        "y_pred_proba= model.predict(X_test)\n",
        "y_pred = [np.argmax(x) for x in y_pred_proba]"
      ],
      "metadata": {
        "id": "B20bl4qeSUpG"
      },
      "execution_count": null,
      "outputs": []
    },
    {
      "cell_type": "code",
      "source": [
        "# Đánh giá\n",
        "evaluate_model(y_test, y_pred, y_pred_proba, model_type='multiclass')"
      ],
      "metadata": {
        "id": "i6I9dP6ehZcA"
      },
      "execution_count": null,
      "outputs": []
    }
  ]
}