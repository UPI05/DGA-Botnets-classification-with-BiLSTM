{
  "cells": [
    {
      "cell_type": "code",
      "execution_count": 3,
      "metadata": {
        "id": "fAxAWqqRHlhh"
      },
      "outputs": [],
      "source": [
        "import numpy as np\n",
        "import os\n",
        "import random\n",
        "import csv\n",
        "import collections\n",
        "import math\n",
        "import pandas as pd\n",
        "from keras.preprocessing import sequence\n",
        "from keras.models import Sequential\n",
        "from keras.layers import Dense, Dropout, Activation\n",
        "from keras.layers import Embedding\n",
        "from keras.layers import Bidirectional, LSTM\n",
        "from sklearn.model_selection import train_test_split\n",
        "from sklearn.metrics import accuracy_score, precision_score, recall_score, f1_score, roc_curve, auc, roc_auc_score\n",
        "import matplotlib.pyplot as plt"
      ]
    },
    {
      "cell_type": "code",
      "execution_count": 4,
      "metadata": {
        "id": "dAyMYCNBH0Gs"
      },
      "outputs": [],
      "source": [
        "df = pd.read_csv('./traindga5.csv')"
      ]
    },
    {
      "cell_type": "code",
      "execution_count": 5,
      "metadata": {
        "id": "mBU0n5eTNssN"
      },
      "outputs": [],
      "source": [
        "df = df.dropna()"
      ]
    },
    {
      "cell_type": "code",
      "execution_count": 6,
      "metadata": {
        "colab": {
          "base_uri": "https://localhost:8080/",
          "height": 206
        },
        "id": "hKeOjXTMJpDV",
        "outputId": "0ddcaebd-7a1b-4633-ce2b-66ddb0d54383"
      },
      "outputs": [
        {
          "data": {
            "text/html": [
              "<div>\n",
              "<style scoped>\n",
              "    .dataframe tbody tr th:only-of-type {\n",
              "        vertical-align: middle;\n",
              "    }\n",
              "\n",
              "    .dataframe tbody tr th {\n",
              "        vertical-align: top;\n",
              "    }\n",
              "\n",
              "    .dataframe thead th {\n",
              "        text-align: right;\n",
              "    }\n",
              "</style>\n",
              "<table border=\"1\" class=\"dataframe\">\n",
              "  <thead>\n",
              "    <tr style=\"text-align: right;\">\n",
              "      <th></th>\n",
              "      <th>legit</th>\n",
              "      <th>alexa</th>\n",
              "      <th>youtube</th>\n",
              "      <th>-0.8</th>\n",
              "      <th>0.0615473378</th>\n",
              "      <th>1</th>\n",
              "      <th>-0.8062361783</th>\n",
              "      <th>-0.7826991542</th>\n",
              "      <th>-0.760304862</th>\n",
              "      <th>-0.7321765588</th>\n",
              "      <th>-0.8396402652</th>\n",
              "      <th>-1</th>\n",
              "    </tr>\n",
              "  </thead>\n",
              "  <tbody>\n",
              "    <tr>\n",
              "      <th>0</th>\n",
              "      <td>legit</td>\n",
              "      <td>alexa</td>\n",
              "      <td>vk</td>\n",
              "      <td>-0.966667</td>\n",
              "      <td>-0.579025</td>\n",
              "      <td>-1.0</td>\n",
              "      <td>-1.000000</td>\n",
              "      <td>-0.962000</td>\n",
              "      <td>-0.972786</td>\n",
              "      <td>-1.000000</td>\n",
              "      <td>-1.000000</td>\n",
              "      <td>-1.000000</td>\n",
              "    </tr>\n",
              "    <tr>\n",
              "      <th>1</th>\n",
              "      <td>legit</td>\n",
              "      <td>alexa</td>\n",
              "      <td>aliexpress</td>\n",
              "      <td>-0.700000</td>\n",
              "      <td>0.230058</td>\n",
              "      <td>1.0</td>\n",
              "      <td>-0.609187</td>\n",
              "      <td>-0.670833</td>\n",
              "      <td>-0.622968</td>\n",
              "      <td>-0.608980</td>\n",
              "      <td>-0.666030</td>\n",
              "      <td>-0.636043</td>\n",
              "    </tr>\n",
              "    <tr>\n",
              "      <th>2</th>\n",
              "      <td>legit</td>\n",
              "      <td>alexa</td>\n",
              "      <td>pornhub</td>\n",
              "      <td>-0.800000</td>\n",
              "      <td>0.181826</td>\n",
              "      <td>1.0</td>\n",
              "      <td>-0.878869</td>\n",
              "      <td>-0.782895</td>\n",
              "      <td>-0.763826</td>\n",
              "      <td>-0.830235</td>\n",
              "      <td>-0.903668</td>\n",
              "      <td>-1.000000</td>\n",
              "    </tr>\n",
              "    <tr>\n",
              "      <th>3</th>\n",
              "      <td>legit</td>\n",
              "      <td>alexa</td>\n",
              "      <td>livejasmin</td>\n",
              "      <td>-0.700000</td>\n",
              "      <td>0.314253</td>\n",
              "      <td>1.0</td>\n",
              "      <td>-0.787137</td>\n",
              "      <td>-0.676048</td>\n",
              "      <td>-0.636485</td>\n",
              "      <td>-0.653389</td>\n",
              "      <td>-0.911703</td>\n",
              "      <td>-1.000000</td>\n",
              "    </tr>\n",
              "    <tr>\n",
              "      <th>4</th>\n",
              "      <td>legit</td>\n",
              "      <td>alexa</td>\n",
              "      <td>popads</td>\n",
              "      <td>-0.833333</td>\n",
              "      <td>-0.052121</td>\n",
              "      <td>1.0</td>\n",
              "      <td>-0.897885</td>\n",
              "      <td>-0.814695</td>\n",
              "      <td>-0.794943</td>\n",
              "      <td>-0.808468</td>\n",
              "      <td>-1.000000</td>\n",
              "      <td>-1.000000</td>\n",
              "    </tr>\n",
              "  </tbody>\n",
              "</table>\n",
              "</div>"
            ],
            "text/plain": [
              "   legit  alexa     youtube      -0.8  0.0615473378    1  -0.8062361783  \\\n",
              "0  legit  alexa          vk -0.966667     -0.579025 -1.0      -1.000000   \n",
              "1  legit  alexa  aliexpress -0.700000      0.230058  1.0      -0.609187   \n",
              "2  legit  alexa     pornhub -0.800000      0.181826  1.0      -0.878869   \n",
              "3  legit  alexa  livejasmin -0.700000      0.314253  1.0      -0.787137   \n",
              "4  legit  alexa      popads -0.833333     -0.052121  1.0      -0.897885   \n",
              "\n",
              "   -0.7826991542  -0.760304862  -0.7321765588  -0.8396402652        -1  \n",
              "0      -0.962000     -0.972786      -1.000000      -1.000000 -1.000000  \n",
              "1      -0.670833     -0.622968      -0.608980      -0.666030 -0.636043  \n",
              "2      -0.782895     -0.763826      -0.830235      -0.903668 -1.000000  \n",
              "3      -0.676048     -0.636485      -0.653389      -0.911703 -1.000000  \n",
              "4      -0.814695     -0.794943      -0.808468      -1.000000 -1.000000  "
            ]
          },
          "execution_count": 6,
          "metadata": {},
          "output_type": "execute_result"
        }
      ],
      "source": [
        "df.head()"
      ]
    },
    {
      "cell_type": "code",
      "execution_count": 7,
      "metadata": {
        "colab": {
          "base_uri": "https://localhost:8080/"
        },
        "id": "mNZeIQKcJs0L",
        "outputId": "61f17507-c69d-46c6-fed6-72b24ca85663"
      },
      "outputs": [
        {
          "data": {
            "text/plain": [
              "['legit',\n",
              " 'legit',\n",
              " 'legit',\n",
              " 'legit',\n",
              " 'legit',\n",
              " 'legit',\n",
              " 'legit',\n",
              " 'legit',\n",
              " 'legit',\n",
              " 'legit']"
            ]
          },
          "execution_count": 7,
          "metadata": {},
          "output_type": "execute_result"
        }
      ],
      "source": [
        "# Lấy binary labels\n",
        "binary_labels = [row[0] for idx, row in df.iterrows()]\n",
        "binary_labels[:10]"
      ]
    },
    {
      "cell_type": "code",
      "execution_count": 8,
      "metadata": {
        "colab": {
          "base_uri": "https://localhost:8080/"
        },
        "id": "Nj5bIW3qKzYu",
        "outputId": "ed447a86-ac2e-4968-f6be-917321606f57"
      },
      "outputs": [
        {
          "data": {
            "text/plain": [
              "['vk',\n",
              " 'aliexpress',\n",
              " 'pornhub',\n",
              " 'livejasmin',\n",
              " 'popads',\n",
              " 'microsoftonline',\n",
              " 'wikia',\n",
              " 'bongacams',\n",
              " 'xvideos',\n",
              " 'detik']"
            ]
          },
          "execution_count": 8,
          "metadata": {},
          "output_type": "execute_result"
        }
      ],
      "source": [
        "# Lấy danh sách domain\n",
        "X = [row[2] for idx, row in df.iterrows()]\n",
        "X[:10]"
      ]
    },
    {
      "cell_type": "code",
      "execution_count": 9,
      "metadata": {
        "colab": {
          "base_uri": "https://localhost:8080/"
        },
        "id": "pFUsXX8tLEaV",
        "outputId": "0740e648-d81e-4be2-fac6-8878a08f147d"
      },
      "outputs": [
        {
          "data": {
            "text/plain": [
              "['alexa',\n",
              " 'alexa',\n",
              " 'alexa',\n",
              " 'alexa',\n",
              " 'alexa',\n",
              " 'alexa',\n",
              " 'alexa',\n",
              " 'alexa',\n",
              " 'alexa',\n",
              " 'alexa']"
            ]
          },
          "execution_count": 9,
          "metadata": {},
          "output_type": "execute_result"
        }
      ],
      "source": [
        "# Lấy danh sách labels (multi-class)\n",
        "labels = [row[1] for idx, row in df.iterrows()]\n",
        "labels[:10]"
      ]
    },
    {
      "cell_type": "code",
      "execution_count": 10,
      "metadata": {
        "id": "wipaFsHcLcIF"
      },
      "outputs": [],
      "source": [
        "# Tạo dictionary, ánh xạ mỗi kí tự sang 1 số nguyên\n",
        "valid_chars = {x: idx + 1 for idx, x in enumerate(set(''.join(X)))}\n",
        "\n",
        "max_features = len(valid_chars) + 1\n",
        "maxlen = np.max([len(x) for x in X])"
      ]
    },
    {
      "cell_type": "code",
      "execution_count": 11,
      "metadata": {
        "id": "kvJXwWttchlK"
      },
      "outputs": [],
      "source": [
        "# Ánh xạ và padding\n",
        "X = [[valid_chars[y] for y in x] for x in X]\n",
        "X = sequence.pad_sequences(X, maxlen=maxlen)"
      ]
    },
    {
      "cell_type": "code",
      "execution_count": 12,
      "metadata": {
        "colab": {
          "base_uri": "https://localhost:8080/"
        },
        "id": "VXXKXpAqL47u",
        "outputId": "289425b2-3aac-4462-e72f-caa436f070e4"
      },
      "outputs": [
        {
          "name": "stdout",
          "output_type": "stream",
          "text": [
            "[0 0 0 0 0 0 0 0 0 0]\n",
            "--------------\n",
            "[19 19 19 19 19 19 19 19 19 19]\n"
          ]
        }
      ],
      "source": [
        "# Encode label\n",
        "y_binary = np.array([0 if x == 'legit' else 1 for x in binary_labels])\n",
        "valid_class = {i:indx for indx, i in enumerate(set(labels))}\n",
        "y = [valid_class[x] for x in labels]\n",
        "y = np.array(y)\n",
        "\n",
        "print(y_binary[:10])\n",
        "print('--------------')\n",
        "print(y[:10])"
      ]
    },
    {
      "cell_type": "code",
      "execution_count": 13,
      "metadata": {
        "id": "ZQ2PZ4p-OwHY"
      },
      "outputs": [],
      "source": [
        "def build_binary_model(max_features, maxlen):\n",
        "    \"\"\"Build LSTM model for two-class classification using Bi-LSTM\"\"\"\n",
        "    model = Sequential()\n",
        "    model.add(Embedding(max_features, 128, input_length=maxlen))\n",
        "    model.add(Bidirectional(LSTM(128)))\n",
        "    model.add(Dropout(0.5))\n",
        "    model.add(Dense(1))\n",
        "    model.add(Activation('sigmoid'))\n",
        "\n",
        "    model.compile(loss='binary_crossentropy', optimizer='rmsprop')\n",
        "\n",
        "    return model\n",
        "\n",
        "def build_multiclass_model(max_features, maxlen):\n",
        "    \"\"\"Build multiclass LSTM model for multiclass classification using Bi-LSTM\"\"\"\n",
        "    model = Sequential()\n",
        "    model.add(Embedding(max_features, 128, input_length=maxlen))\n",
        "    model.add(Bidirectional(LSTM(128)))\n",
        "    model.add(Dropout(0.5))\n",
        "    model.add(Dense(38))  # Có 38 loại\n",
        "    model.add(Activation('softmax'))\n",
        "\n",
        "    model.compile(loss='sparse_categorical_crossentropy', optimizer='rmsprop')\n",
        "\n",
        "    return model"
      ]
    },
    {
      "cell_type": "code",
      "execution_count": 14,
      "metadata": {
        "id": "mCDpI4oEQieu"
      },
      "outputs": [],
      "source": [
        "def create_class_weight(labels_dict, mu):\n",
        "    \"\"\"Create weight based on the number of domain name in the dataset\"\"\"\n",
        "    total = np.sum(list(labels_dict.values()))\n",
        "    class_weight = dict()\n",
        "\n",
        "    for key in labels_dict.keys():\n",
        "        # Calculate the class weight using the provided formula\n",
        "        score = math.pow(total / float(labels_dict[key]), mu)\n",
        "        class_weight[key] = score\n",
        "\n",
        "    return class_weight"
      ]
    },
    {
      "cell_type": "code",
      "execution_count": 15,
      "metadata": {
        "id": "gYbKKvyGRBf5"
      },
      "outputs": [],
      "source": [
        "# Chia tập dữ liệu cho bài toán phân loại nhị phân\n",
        "X_train_bin, X_test_bin, y_train_bin, y_test_bin = train_test_split(X, y_binary, test_size=0.3, random_state=42, stratify=y_binary)\n",
        "\n",
        "# Chia tập dữ liệu cho bài toán phân loại đa lớp\n",
        "X_train, X_test, y_train, y_test = train_test_split(X, y, test_size=0.3, random_state=42, stratify=y)"
      ]
    },
    {
      "cell_type": "code",
      "execution_count": 16,
      "metadata": {
        "colab": {
          "base_uri": "https://localhost:8080/"
        },
        "id": "kHSVui5eoUZb",
        "outputId": "ceb1c230-7b3e-4adf-a5db-9c7f4f9e6edc"
      },
      "outputs": [
        {
          "name": "stdout",
          "output_type": "stream",
          "text": [
            "(118891, 61)\n",
            "(118891,)\n",
            "(50954, 61)\n",
            "(50954,)\n",
            "(118891, 61)\n",
            "(118891,)\n",
            "(50954, 61)\n",
            "(50954,)\n"
          ]
        }
      ],
      "source": [
        "print(X_train_bin.shape)\n",
        "print(y_train_bin.shape)\n",
        "print(X_test_bin.shape)\n",
        "print(y_test_bin.shape)\n",
        "\n",
        "print(X_train.shape)\n",
        "print(y_train.shape)\n",
        "print(X_test.shape)\n",
        "print(y_test.shape)"
      ]
    },
    {
      "cell_type": "code",
      "execution_count": 17,
      "metadata": {
        "id": "Wg614ubKSBEe"
      },
      "outputs": [],
      "source": [
        "# Tạo model\n",
        "binary_model = build_binary_model(max_features, maxlen)\n",
        "model = build_multiclass_model(max_features, maxlen)"
      ]
    },
    {
      "cell_type": "code",
      "execution_count": 18,
      "metadata": {
        "id": "WUz001ZVUA93"
      },
      "outputs": [],
      "source": [
        "EPOCHS = 20"
      ]
    },
    {
      "cell_type": "code",
      "execution_count": 19,
      "metadata": {
        "id": "4UnF69yGVpfo"
      },
      "outputs": [],
      "source": [
        "def evaluate_model(y_true, y_pred, y_pred_proba, model_type='binary'):\n",
        "    # Tính các chỉ số đánh giá\n",
        "    acc = accuracy_score(y_true, y_pred)\n",
        "    prec = precision_score(y_true, y_pred, average='binary' if model_type == 'binary' else 'weighted')\n",
        "    rec = recall_score(y_true, y_pred, average='binary' if model_type == 'binary' else 'weighted')\n",
        "    f1 = f1_score(y_true, y_pred, average='binary' if model_type == 'binary' else 'weighted')\n",
        "\n",
        "    # In các chỉ số\n",
        "    print(f\"Accuracy: {acc}\")\n",
        "    print(f\"Precision: {prec}\")\n",
        "    print(f\"Recall: {rec}\")\n",
        "    print(f\"F1 Score: {f1}\")\n",
        "\n",
        "    # Vẽ đường cong ROC và tính AUC\n",
        "    if model_type == 'binary':\n",
        "        fpr, tpr, thresholds = roc_curve(y_true, y_pred_proba)\n",
        "        roc_auc = auc(fpr, tpr)\n",
        "    elif model_type == 'multiclass':\n",
        "        # Tính AUC cho phân loại đa lớp\n",
        "        roc_auc = roc_auc_score(y_true, y_pred_proba, multi_class='ovr')\n",
        "\n",
        "    plt.figure()\n",
        "    if model_type == 'binary':\n",
        "        plt.plot(fpr, tpr, color='darkorange', lw=2, label=f'ROC curve (area = {roc_auc:.2f})')\n",
        "        plt.plot([0, 1], [0, 1], color='navy', lw=2, linestyle='--')\n",
        "    elif model_type == 'multiclass':\n",
        "        # Không vẽ đường cong ROC cho phân loại đa lớp ở đây\n",
        "        plt.title('Multiclass classification - ROC AUC provided')\n",
        "    plt.xlim([0.0, 1.0])\n",
        "    plt.ylim([0.0, 1.05])\n",
        "    plt.xlabel('False Positive Rate')\n",
        "    plt.ylabel('True Positive Rate')\n",
        "    plt.title('Receiver Operating Characteristic')\n",
        "    plt.legend(loc=\"lower right\")\n",
        "    plt.show()\n",
        "\n",
        "    return acc, prec, rec, f1, roc_auc"
      ]
    },
    {
      "cell_type": "code",
      "execution_count": 20,
      "metadata": {
        "id": "Pl5SKq6Ian39"
      },
      "outputs": [
        {
          "name": "stdout",
          "output_type": "stream",
          "text": [
            "929/929 [==============================] - 189s 198ms/step - loss: 0.2355\n",
            "1593/1593 [==============================] - 68s 42ms/step\n",
            "[[0.04315161]\n",
            " [0.00602583]\n",
            " [0.92109114]\n",
            " [0.6130993 ]\n",
            " [0.9968809 ]]\n"
          ]
        }
      ],
      "source": [
        "# BINARY-CLASS\n",
        "\n",
        "# Train\n",
        "labels_dict=collections.Counter(y_train_bin)\n",
        "class_weight = create_class_weight(labels_dict, 0.1)\n",
        "binary_model.fit(X_train_bin, y_train_bin, batch_size=128, epochs=1, class_weight=class_weight)\n",
        "\n",
        "y_pred_bin_probs = binary_model.predict(X_test_bin)\n",
        "print(y_pred_bin_probs[:5])"
      ]
    },
    {
      "cell_type": "code",
      "execution_count": 21,
      "metadata": {
        "id": "2KVsC3EKpCGV"
      },
      "outputs": [],
      "source": [
        "\n",
        "y_pred_bin = [0 if(x<=0.5) else 1 for x in y_pred_bin_probs]"
      ]
    },
    {
      "cell_type": "code",
      "execution_count": 22,
      "metadata": {
        "id": "b73X9mF_hPAS"
      },
      "outputs": [
        {
          "name": "stdout",
          "output_type": "stream",
          "text": [
            "Accuracy: 0.9479138046080778\n",
            "Precision: 0.9462004585653455\n",
            "Recall: 0.9451942740286299\n",
            "F1 Score: 0.9456970986618652\n"
          ]
        },
        {
          "data": {
            "image/png": "[encoded data removed]",
            "text/plain": [
              "<Figure size 640x480 with 1 Axes>"
            ]
          },
          "metadata": {},
          "output_type": "display_data"
        },
        {
          "data": {
            "text/plain": [
              "(0.9479138046080778,\n",
              " 0.9462004585653455,\n",
              " 0.9451942740286299,\n",
              " 0.9456970986618652,\n",
              " 0.9837644802003881)"
            ]
          },
          "execution_count": 22,
          "metadata": {},
          "output_type": "execute_result"
        }
      ],
      "source": [
        "# Đánh giá\n",
        "evaluate_model(y_test_bin, y_pred_bin, y_pred_bin_probs, model_type='binary')"
      ]
    },
    {
      "cell_type": "code",
      "execution_count": 23,
      "metadata": {
        "id": "B20bl4qeSUpG"
      },
      "outputs": [
        {
          "name": "stdout",
          "output_type": "stream",
          "text": [
            "929/929 [==============================] - 267s 283ms/step - loss: 1.0127\n",
            "1593/1593 [==============================] - 106s 65ms/step\n"
          ]
        }
      ],
      "source": [
        "# MULTI-CLASS\n",
        "\n",
        "# Train\n",
        "labels_dict=collections.Counter(y_train)\n",
        "class_weight = create_class_weight(labels_dict, 0.1)\n",
        "model.fit(X_train, y_train, batch_size=128, epochs=1, class_weight=class_weight)\n",
        "\n",
        "y_pred_proba= model.predict(X_test)\n",
        "y_pred = [np.argmax(x) for x in y_pred_proba]"
      ]
    },
    {
      "cell_type": "code",
      "execution_count": 24,
      "metadata": {
        "id": "i6I9dP6ehZcA"
      },
      "outputs": [
        {
          "name": "stderr",
          "output_type": "stream",
          "text": [
            "/home/haohao/miniconda3/envs/tf/lib/python3.9/site-packages/sklearn/metrics/_classification.py:1344: UndefinedMetricWarning: Precision is ill-defined and being set to 0.0 in labels with no predicted samples. Use `zero_division` parameter to control this behavior.\n",
            "  _warn_prf(average, modifier, msg_start, len(result))\n"
          ]
        },
        {
          "name": "stdout",
          "output_type": "stream",
          "text": [
            "Accuracy: 0.8782431212466146\n",
            "Precision: 0.841207639811053\n",
            "Recall: 0.8782431212466146\n",
            "F1 Score: 0.8509734746604322\n"
          ]
        },
        {
          "name": "stderr",
          "output_type": "stream",
          "text": [
            "No artists with labels found to put in legend.  Note that artists whose label start with an underscore are ignored when legend() is called with no argument.\n"
          ]
        },
        {
          "data": {
            "image/png": "[encoded data removed]",
            "text/plain": [
              "<Figure size 640x480 with 1 Axes>"
            ]
          },
          "metadata": {},
          "output_type": "display_data"
        },
        {
          "data": {
            "text/plain": [
              "(0.8782431212466146,\n",
              " 0.841207639811053,\n",
              " 0.8782431212466146,\n",
              " 0.8509734746604322,\n",
              " 0.8987038053364834)"
            ]
          },
          "execution_count": 24,
          "metadata": {},
          "output_type": "execute_result"
        }
      ],
      "source": [
        "# Đánh giá\n",
        "evaluate_model(y_test, y_pred, y_pred_proba, model_type='multiclass')"
      ]
    }
  ],
  "metadata": {
    "colab": {
      "provenance": []
    },
    "kernelspec": {
      "display_name": "Python 3",
      "name": "python3"
    },
    "language_info": {
      "codemirror_mode": {
        "name": "ipython",
        "version": 3
      },
      "file_extension": ".py",
      "mimetype": "text/x-python",
      "name": "python",
      "nbconvert_exporter": "python",
      "pygments_lexer": "ipython3",
      "version": "3.9.16"
    }
  },
  "nbformat": 4,
  "nbformat_minor": 0
}
