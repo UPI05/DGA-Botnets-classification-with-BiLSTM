{
  "nbformat": 4,
  "nbformat_minor": 0,
  "metadata": {
    "colab": {
      "provenance": []
    },
    "kernelspec": {
      "name": "python3",
      "display_name": "Python 3"
    },
    "language_info": {
      "name": "python"
    }
  },
  "cells": [
    {
      "cell_type": "code",
      "execution_count": 1,
      "metadata": {
        "id": "fAxAWqqRHlhh"
      },
      "outputs": [],
      "source": [
        "import numpy as np\n",
        "import os\n",
        "import random\n",
        "import csv\n",
        "import collections\n",
        "import math\n",
        "import pandas as pd\n",
        "from keras.preprocessing import sequence\n",
        "from keras.models import Sequential\n",
        "from keras.layers import Dense, Dropout, Activation\n",
        "from keras.layers import Embedding\n",
        "from keras.layers import Bidirectional, LSTM\n",
        "from sklearn.model_selection import train_test_split\n",
        "from sklearn.metrics import accuracy_score, precision_score, recall_score, f1_score, roc_curve, auc, roc_auc_score\n",
        "import matplotlib.pyplot as plt"
      ]
    },
    {
      "cell_type": "code",
      "source": [
        "train_path_bin = '/content/drive/MyDrive/DMD-2018-Data set/Task 1/training/training.xlsx'\n",
        "train_path = '/content/drive/MyDrive/DMD-2018-Data set/Task-2/DGA-Train/train.csv'\n",
        "df_train_bin = pd.read_excel(train_path_bin, index_col=None)\n",
        "# Xóa các row có chứa nan\n",
        "df_train_bin = df_train_bin.dropna()\n",
        "print(df_train_bin.head())\n",
        "df_train = pd.read_csv(train_path, index_col=None)\n",
        "# Xóa các row có chứa nan\n",
        "df_train = df_train.dropna()\n",
        "print(df_train.head())\n"
      ],
      "metadata": {
        "colab": {
          "base_uri": "https://localhost:8080/"
        },
        "id": "E7o7M6MxbGKQ",
        "outputId": "a9b67988-462f-439c-dd54-914f1ec3a5d4"
      },
      "execution_count": 32,
      "outputs": [
        {
          "output_type": "stream",
          "name": "stdout",
          "text": [
            "                         m644136d0.tmodns.net  0\n",
            "0                                  dfg.ca.gov  0\n",
            "1                c4w6wpg81xsbopy8a67.ddns.net  1\n",
            "2                          ace.ojom-mobile.de  0\n",
            "3  pub.3gppnetwork.org.mcdonaldswifi.internal  0\n",
            "4                              cloudforge.com  0\n",
            "   m8aoicy8qous.top  12\n",
            "0    fiddlrxsat.com   4\n",
            "1       verdzq.info  11\n",
            "2  06cag28moasa.top  12\n",
            "3    7liverpool.com   0\n",
            "4  neodatagroup.com   0\n"
          ]
        }
      ]
    },
    {
      "cell_type": "code",
      "source": [
        "X_test_bin_path = '/content/drive/MyDrive/DMD-2018-Data set/Task 1/testing/second testing/test2.txt'\n",
        "y_test_bin_path = '/content/drive/MyDrive/DMD-2018-Data set/Task 1/testing/second testing/test2label.txt'\n",
        "X_test_path = '/content/drive/MyDrive/DMD-2018-Data set/Task-2/DGA-Test/testing - 2/testing-2.txt'\n",
        "y_test_path = '/content/drive/MyDrive/DMD-2018-Data set/Task-2/DGA-Test/testing - 2/testing-2-label.txt'\n",
        "\n",
        "## BINARY-CLASS\n",
        "# Đọc các domain từ test2.txt\n",
        "with open(X_test_bin_path, 'r') as file:\n",
        "    X_test_bin = file.readlines()\n",
        "    X_test_bin = [line.strip() for line in X_test_bin]  # Loại bỏ khoảng trắng thừa\n",
        "\n",
        "# Đọc các label từ test2label.txt\n",
        "with open(y_test_bin_path, 'r') as file:\n",
        "    y_test_bin = file.readlines()\n",
        "    y_test_bin = [int(line.strip()) for line in y_test_bin]\n",
        "\n",
        "# Kiểm tra kết quả\n",
        "print(\"Domains:\", X_test_bin[:5])\n",
        "print(\"Labels:\", y_test_bin[:5])\n",
        "\n",
        "## MULTI-CLASS\n",
        "# Đọc các domain từ testing-2.txt\n",
        "with open(X_test_path, 'r') as file:\n",
        "    X_test = file.readlines()\n",
        "    X_test = [line.strip() for line in X_test]  # Loại bỏ khoảng trắng thừa\n",
        "\n",
        "# Đọc các label từ testing-2-label.txt\n",
        "with open(y_test_path, 'r') as file:\n",
        "    y_test = file.readlines()\n",
        "    y_test = [int(line.strip()) for line in y_test]\n",
        "\n",
        "# Kiểm tra kết quả\n",
        "print(\"Domains:\", X_test[:5])\n",
        "print(\"Labels:\", y_test[:5])\n"
      ],
      "metadata": {
        "colab": {
          "base_uri": "https://localhost:8080/"
        },
        "id": "VcGLwxGabWRh",
        "outputId": "809641f4-5106-4bea-b0b2-98af5156821b"
      },
      "execution_count": 33,
      "outputs": [
        {
          "output_type": "stream",
          "name": "stdout",
          "text": [
            "Domains: ['9248c26a0be23c01.net', 'ytubeukhylbhqwsbmbifmiblmbx.info', 'zidnwnki.org', 'qbfnof.dyndns.org', '1uzfyzf5xo7ux1y4czth1pfq856.net']\n",
            "Labels: [1, 1, 1, 1, 1]\n",
            "Domains: ['api.watchstadium.com', 'jaunhbjoxi.com', 'elelg850k4qdgf5x7lgvoxy.ddns.net', 'zgh2nw9azopm.com', 'klhjaqzsma.com']\n",
            "Labels: [0, 4, 2, 12, 4]\n"
          ]
        }
      ]
    },
    {
      "cell_type": "code",
      "source": [
        "# Chia dữ liệu trong df_train_bin thành features và labels\n",
        "X_train_bin = df_train_bin.iloc[:, 0]  # Lấy dữ liệu từ cột đầu tiên\n",
        "y_train_bin = df_train_bin.iloc[:, 1]  # Lấy dữ liệu từ cột thứ hai\n",
        "\n",
        "# Chia dữ liệu trong df_train thành features và labels\n",
        "X_train = df_train.iloc[:, 0]  # Lấy dữ liệu từ cột đầu tiên\n",
        "y_train = df_train.iloc[:, 1]  # Lấy dữ liệu từ cột thứ hai\n",
        "\n",
        "print(y_train_bin.info())\n",
        "print(y_train.info())"
      ],
      "metadata": {
        "colab": {
          "base_uri": "https://localhost:8080/"
        },
        "id": "mNZeIQKcJs0L",
        "outputId": "3087a0b0-167a-4027-c074-bde941f3a588"
      },
      "execution_count": 34,
      "outputs": [
        {
          "output_type": "stream",
          "name": "stdout",
          "text": [
            "<class 'pandas.core.series.Series'>\n",
            "RangeIndex: 790738 entries, 0 to 790737\n",
            "Series name: 0\n",
            "Non-Null Count   Dtype\n",
            "--------------   -----\n",
            "790738 non-null  int64\n",
            "dtypes: int64(1)\n",
            "memory usage: 6.0 MB\n",
            "None\n",
            "<class 'pandas.core.series.Series'>\n",
            "RangeIndex: 397776 entries, 0 to 397775\n",
            "Series name: 12\n",
            "Non-Null Count   Dtype\n",
            "--------------   -----\n",
            "397776 non-null  int64\n",
            "dtypes: int64(1)\n",
            "memory usage: 3.0 MB\n",
            "None\n"
          ]
        }
      ]
    },
    {
      "cell_type": "code",
      "source": [
        "# Tat ca features:\n",
        "X = X_train.tolist() + X_train_bin.tolist() + X_test + X_test_bin\n",
        "X[:10]"
      ],
      "metadata": {
        "colab": {
          "base_uri": "https://localhost:8080/"
        },
        "id": "1R7An-HQjCLh",
        "outputId": "e8ac1b4b-fdd6-4690-91c3-0987770ee110"
      },
      "execution_count": 35,
      "outputs": [
        {
          "output_type": "execute_result",
          "data": {
            "text/plain": [
              "['fiddlrxsat.com',\n",
              " 'verdzq.info',\n",
              " '06cag28moasa.top',\n",
              " '7liverpool.com',\n",
              " 'neodatagroup.com',\n",
              " 'oonsvfskdcwnv.net',\n",
              " 'aniways.blob.core.windows.net',\n",
              " 'orleifeduxgeqfieicyrkibypcetk.ru',\n",
              " 'aqhizhcuhqvwpnovhwowobmqaqgy.biz',\n",
              " 'efkkkbcecbocdbaa.org']"
            ]
          },
          "metadata": {},
          "execution_count": 35
        }
      ]
    },
    {
      "cell_type": "code",
      "source": [
        "# Tạo dictionary, ánh xạ mỗi kí tự sang 1 số nguyên\n",
        "valid_chars = {x: idx + 1 for idx, x in enumerate(set(''.join([str(domain) for domain in X])))}\n",
        "\n",
        "max_features = len(valid_chars) + 1\n",
        "maxlen = np.max([len(str(x)) for x in X])"
      ],
      "metadata": {
        "id": "wipaFsHcLcIF"
      },
      "execution_count": 36,
      "outputs": []
    },
    {
      "cell_type": "code",
      "source": [
        "# Ánh xạ và padding\n",
        "X_train = [[valid_chars[y] for y in str(x)] for x in X_train.tolist()]\n",
        "X_train = sequence.pad_sequences(X_train, maxlen=maxlen)\n",
        "X_train_bin = [[valid_chars[y] for y in str(x)] for x in X_train_bin.tolist()]\n",
        "X_train_bin = sequence.pad_sequences(X_train_bin, maxlen=maxlen)\n",
        "\n",
        "X_test = [[valid_chars[y] for y in str(x)] for x in X_test]\n",
        "X_test = sequence.pad_sequences(X_test, maxlen=maxlen)\n",
        "X_test_bin = [[valid_chars[y] for y in str(x)] for x in X_test_bin]\n",
        "X_test_bin = sequence.pad_sequences(X_test_bin, maxlen=maxlen)"
      ],
      "metadata": {
        "id": "kvJXwWttchlK"
      },
      "execution_count": 37,
      "outputs": []
    },
    {
      "cell_type": "code",
      "source": [
        "# Đếm số lượng mỗi label trong y_train và y_test\n",
        "count_train = collections.Counter(y_train)\n",
        "count_test = collections.Counter(y_test)\n",
        "\n",
        "print(\"Số lượng trong y_train:\")\n",
        "for key in sorted(count_train):\n",
        "    print(f\"Label {key}: {count_train[key]} mẫu\")\n",
        "print('-------------------------------------------')\n",
        "print(\"Số lượng trong y_test:\")\n",
        "for key in sorted(count_test):\n",
        "    print(f\"Label {key}: {count_train[key]} mẫu\")"
      ],
      "metadata": {
        "colab": {
          "base_uri": "https://localhost:8080/"
        },
        "id": "-buVj6N3tJc0",
        "outputId": "1744c162-5f57-47c4-b8c2-4c0fda7b1aa0"
      },
      "execution_count": 41,
      "outputs": [
        {
          "output_type": "stream",
          "name": "stdout",
          "text": [
            "Số lượng trong y_train:\n",
            "Label 0: 100000 mẫu\n",
            "Label 1: 15000 mẫu\n",
            "Label 2: 15000 mẫu\n",
            "Label 3: 15000 mẫu\n",
            "Label 4: 15000 mẫu\n",
            "Label 5: 15000 mẫu\n",
            "Label 6: 15000 mẫu\n",
            "Label 7: 12777 mẫu\n",
            "Label 8: 15000 mẫu\n",
            "Label 9: 15000 mẫu\n",
            "Label 10: 15000 mẫu\n",
            "Label 11: 15000 mẫu\n",
            "Label 12: 14999 mẫu\n",
            "Label 13: 15000 mẫu\n",
            "Label 14: 15000 mẫu\n",
            "Label 15: 15000 mẫu\n",
            "Label 16: 15000 mẫu\n",
            "Label 17: 15000 mẫu\n",
            "Label 18: 15000 mẫu\n",
            "Label 19: 15000 mẫu\n",
            "Label 20: 15000 mẫu\n",
            "-------------------------------------------\n",
            "Số lượng trong y_test:\n",
            "Label 0: 100000 mẫu\n",
            "Label 1: 15000 mẫu\n",
            "Label 2: 15000 mẫu\n",
            "Label 3: 15000 mẫu\n",
            "Label 4: 15000 mẫu\n",
            "Label 5: 15000 mẫu\n",
            "Label 6: 15000 mẫu\n",
            "Label 7: 12777 mẫu\n",
            "Label 8: 15000 mẫu\n",
            "Label 9: 15000 mẫu\n",
            "Label 10: 15000 mẫu\n",
            "Label 11: 15000 mẫu\n",
            "Label 12: 14999 mẫu\n",
            "Label 13: 15000 mẫu\n",
            "Label 14: 15000 mẫu\n",
            "Label 15: 15000 mẫu\n",
            "Label 16: 15000 mẫu\n",
            "Label 17: 15000 mẫu\n",
            "Label 18: 15000 mẫu\n",
            "Label 19: 15000 mẫu\n",
            "Label 20: 15000 mẫu\n"
          ]
        }
      ]
    },
    {
      "cell_type": "code",
      "source": [
        "def build_binary_model(max_features, maxlen):\n",
        "    \"\"\"Build LSTM model for two-class classification using Bi-LSTM\"\"\"\n",
        "    model = Sequential()\n",
        "    model.add(Embedding(max_features, 128, input_length=maxlen))\n",
        "    model.add(Bidirectional(LSTM(128)))\n",
        "    model.add(Dropout(0.5))\n",
        "    model.add(Dense(1))\n",
        "    model.add(Activation('sigmoid'))\n",
        "\n",
        "    model.compile(loss='binary_crossentropy', optimizer='rmsprop')\n",
        "\n",
        "    return model\n",
        "\n",
        "def build_multiclass_model(max_features, maxlen):\n",
        "    \"\"\"Build multiclass LSTM model for multiclass classification using Bi-LSTM\"\"\"\n",
        "    model = Sequential()\n",
        "    model.add(Embedding(max_features, 128, input_length=maxlen))\n",
        "    model.add(Bidirectional(LSTM(128)))\n",
        "    model.add(Dropout(0.5))\n",
        "    model.add(Dense(21))  # Có 21 loại\n",
        "    model.add(Activation('softmax'))\n",
        "\n",
        "    model.compile(loss='sparse_categorical_crossentropy', optimizer='rmsprop')\n",
        "\n",
        "    return model"
      ],
      "metadata": {
        "id": "ZQ2PZ4p-OwHY"
      },
      "execution_count": 42,
      "outputs": []
    },
    {
      "cell_type": "code",
      "source": [
        "def create_class_weight(labels_dict, mu):\n",
        "    \"\"\"Create weight based on the number of domain name in the dataset\"\"\"\n",
        "    total = np.sum(list(labels_dict.values()))\n",
        "    class_weight = dict()\n",
        "\n",
        "    for key in labels_dict.keys():\n",
        "        # Calculate the class weight using the provided formula\n",
        "        score = math.pow(total / float(labels_dict[key]), mu)\n",
        "        class_weight[key] = score\n",
        "\n",
        "    return class_weight"
      ],
      "metadata": {
        "id": "mCDpI4oEQieu"
      },
      "execution_count": 43,
      "outputs": []
    },
    {
      "cell_type": "code",
      "source": [
        "y_test_bin = np.array(y_test_bin)\n",
        "y_test = np.array(y_test)"
      ],
      "metadata": {
        "id": "V9Gdgu8auVB7"
      },
      "execution_count": 45,
      "outputs": []
    },
    {
      "cell_type": "code",
      "source": [
        "print(X_train_bin.shape)\n",
        "print(y_train_bin.shape)\n",
        "print(X_test_bin.shape)\n",
        "print(y_test_bin.shape)\n",
        "print('---------------')\n",
        "print(X_train.shape)\n",
        "print(y_train.shape)\n",
        "print(X_test.shape)\n",
        "print(y_test.shape)"
      ],
      "metadata": {
        "colab": {
          "base_uri": "https://localhost:8080/"
        },
        "id": "kHSVui5eoUZb",
        "outputId": "4ac1c1ea-8328-456a-9550-f54cf3f7b565"
      },
      "execution_count": 47,
      "outputs": [
        {
          "output_type": "stream",
          "name": "stdout",
          "text": [
            "(790738, 196)\n",
            "(790738,)\n",
            "(2922, 196)\n",
            "(2922,)\n",
            "---------------\n",
            "(397776, 196)\n",
            "(397776,)\n",
            "(103200, 196)\n",
            "(103200,)\n"
          ]
        }
      ]
    },
    {
      "cell_type": "code",
      "source": [
        "# Tạo model\n",
        "binary_model = build_binary_model(max_features, maxlen)\n",
        "model = build_multiclass_model(max_features, maxlen)"
      ],
      "metadata": {
        "id": "Wg614ubKSBEe"
      },
      "execution_count": 48,
      "outputs": []
    },
    {
      "cell_type": "code",
      "source": [
        "EPOCHS = 20"
      ],
      "metadata": {
        "id": "WUz001ZVUA93"
      },
      "execution_count": 49,
      "outputs": []
    },
    {
      "cell_type": "code",
      "source": [
        "def evaluate_model(y_true, y_pred, y_pred_proba, model_type='binary'):\n",
        "    # Tính các chỉ số đánh giá\n",
        "    acc = accuracy_score(y_true, y_pred)\n",
        "    prec = precision_score(y_true, y_pred, average='binary' if model_type == 'binary' else 'macro')\n",
        "    rec = recall_score(y_true, y_pred, average='binary' if model_type == 'binary' else 'macro')\n",
        "    f1 = f1_score(y_true, y_pred, average='binary' if model_type == 'binary' else 'macro')\n",
        "\n",
        "    # In các chỉ số\n",
        "    print(f\"Accuracy: {acc}\")\n",
        "    print(f\"Precision: {prec}\")\n",
        "    print(f\"Recall: {rec}\")\n",
        "    print(f\"F1 Score: {f1}\")\n",
        "\n",
        "    # Vẽ đường cong ROC và tính AUC\n",
        "    if model_type == 'binary':\n",
        "        fpr, tpr, thresholds = roc_curve(y_true, y_pred_proba)\n",
        "        roc_auc = auc(fpr, tpr)\n",
        "    elif model_type == 'multiclass':\n",
        "        # Tính AUC cho phân loại đa lớp\n",
        "        roc_auc = roc_auc_score(y_true, y_pred_proba, multi_class='ovr')\n",
        "\n",
        "    plt.figure()\n",
        "    if model_type == 'binary':\n",
        "        plt.plot(fpr, tpr, color='darkorange', lw=2, label=f'ROC curve (area = {roc_auc:.2f})')\n",
        "        plt.plot([0, 1], [0, 1], color='navy', lw=2, linestyle='--')\n",
        "    elif model_type == 'multiclass':\n",
        "        # Không vẽ đường cong ROC cho phân loại đa lớp ở đây\n",
        "        plt.title('Multiclass classification - ROC AUC provided')\n",
        "    plt.xlim([0.0, 1.0])\n",
        "    plt.ylim([0.0, 1.05])\n",
        "    plt.xlabel('False Positive Rate')\n",
        "    plt.ylabel('True Positive Rate')\n",
        "    plt.title('Receiver Operating Characteristic')\n",
        "    plt.legend(loc=\"lower right\")\n",
        "    plt.show()\n",
        "\n",
        "    return acc, prec, rec, f1, roc_auc"
      ],
      "metadata": {
        "id": "4UnF69yGVpfo"
      },
      "execution_count": 53,
      "outputs": []
    },
    {
      "cell_type": "code",
      "source": [
        "# BINARY-CLASS\n",
        "\n",
        "# Train\n",
        "labels_dict=collections.Counter(y_train_bin)\n",
        "class_weight = create_class_weight(labels_dict, 0.1)\n",
        "binary_model.fit(X_train_bin, y_train_bin, batch_size=128, epochs=1, class_weight=class_weight)\n",
        "\n",
        "y_pred_bin_probs = binary_model.predict(X_test_bin)\n",
        "print(y_pred_bin_probs[:5])"
      ],
      "metadata": {
        "id": "Pl5SKq6Ian39",
        "colab": {
          "base_uri": "https://localhost:8080/",
          "height": 373
        },
        "outputId": "94495adf-74bf-440a-b2b1-330827cb1078"
      },
      "execution_count": 52,
      "outputs": [
        {
          "output_type": "stream",
          "name": "stdout",
          "text": [
            "  54/6178 [..............................] - ETA: 1:24:04 - loss: 0.4745"
          ]
        },
        {
          "output_type": "error",
          "ename": "KeyboardInterrupt",
          "evalue": "",
          "traceback": [
            "\u001b[0;31m---------------------------------------------------------------------------\u001b[0m",
            "\u001b[0;31mKeyboardInterrupt\u001b[0m                         Traceback (most recent call last)",
            "\u001b[0;32m<ipython-input-52-504ac19caed8>\u001b[0m in \u001b[0;36m<cell line: 6>\u001b[0;34m()\u001b[0m\n\u001b[1;32m      4\u001b[0m \u001b[0mlabels_dict\u001b[0m\u001b[0;34m=\u001b[0m\u001b[0mcollections\u001b[0m\u001b[0;34m.\u001b[0m\u001b[0mCounter\u001b[0m\u001b[0;34m(\u001b[0m\u001b[0my_train_bin\u001b[0m\u001b[0;34m)\u001b[0m\u001b[0;34m\u001b[0m\u001b[0;34m\u001b[0m\u001b[0m\n\u001b[1;32m      5\u001b[0m \u001b[0mclass_weight\u001b[0m \u001b[0;34m=\u001b[0m \u001b[0mcreate_class_weight\u001b[0m\u001b[0;34m(\u001b[0m\u001b[0mlabels_dict\u001b[0m\u001b[0;34m,\u001b[0m \u001b[0;36m0.1\u001b[0m\u001b[0;34m)\u001b[0m\u001b[0;34m\u001b[0m\u001b[0;34m\u001b[0m\u001b[0m\n\u001b[0;32m----> 6\u001b[0;31m \u001b[0mbinary_model\u001b[0m\u001b[0;34m.\u001b[0m\u001b[0mfit\u001b[0m\u001b[0;34m(\u001b[0m\u001b[0mX_train_bin\u001b[0m\u001b[0;34m,\u001b[0m \u001b[0my_train_bin\u001b[0m\u001b[0;34m,\u001b[0m \u001b[0mbatch_size\u001b[0m\u001b[0;34m=\u001b[0m\u001b[0;36m128\u001b[0m\u001b[0;34m,\u001b[0m \u001b[0mepochs\u001b[0m\u001b[0;34m=\u001b[0m\u001b[0;36m1\u001b[0m\u001b[0;34m,\u001b[0m \u001b[0mclass_weight\u001b[0m\u001b[0;34m=\u001b[0m\u001b[0mclass_weight\u001b[0m\u001b[0;34m)\u001b[0m\u001b[0;34m\u001b[0m\u001b[0;34m\u001b[0m\u001b[0m\n\u001b[0m\u001b[1;32m      7\u001b[0m \u001b[0;34m\u001b[0m\u001b[0m\n\u001b[1;32m      8\u001b[0m \u001b[0my_pred_bin_probs\u001b[0m \u001b[0;34m=\u001b[0m \u001b[0mbinary_model\u001b[0m\u001b[0;34m.\u001b[0m\u001b[0mpredict\u001b[0m\u001b[0;34m(\u001b[0m\u001b[0mX_test_bin\u001b[0m\u001b[0;34m)\u001b[0m\u001b[0;34m\u001b[0m\u001b[0;34m\u001b[0m\u001b[0m\n",
            "\u001b[0;32m/usr/local/lib/python3.10/dist-packages/keras/src/utils/traceback_utils.py\u001b[0m in \u001b[0;36merror_handler\u001b[0;34m(*args, **kwargs)\u001b[0m\n\u001b[1;32m     63\u001b[0m         \u001b[0mfiltered_tb\u001b[0m \u001b[0;34m=\u001b[0m \u001b[0;32mNone\u001b[0m\u001b[0;34m\u001b[0m\u001b[0;34m\u001b[0m\u001b[0m\n\u001b[1;32m     64\u001b[0m         \u001b[0;32mtry\u001b[0m\u001b[0;34m:\u001b[0m\u001b[0;34m\u001b[0m\u001b[0;34m\u001b[0m\u001b[0m\n\u001b[0;32m---> 65\u001b[0;31m             \u001b[0;32mreturn\u001b[0m \u001b[0mfn\u001b[0m\u001b[0;34m(\u001b[0m\u001b[0;34m*\u001b[0m\u001b[0margs\u001b[0m\u001b[0;34m,\u001b[0m \u001b[0;34m**\u001b[0m\u001b[0mkwargs\u001b[0m\u001b[0;34m)\u001b[0m\u001b[0;34m\u001b[0m\u001b[0;34m\u001b[0m\u001b[0m\n\u001b[0m\u001b[1;32m     66\u001b[0m         \u001b[0;32mexcept\u001b[0m \u001b[0mException\u001b[0m \u001b[0;32mas\u001b[0m \u001b[0me\u001b[0m\u001b[0;34m:\u001b[0m\u001b[0;34m\u001b[0m\u001b[0;34m\u001b[0m\u001b[0m\n\u001b[1;32m     67\u001b[0m             \u001b[0mfiltered_tb\u001b[0m \u001b[0;34m=\u001b[0m \u001b[0m_process_traceback_frames\u001b[0m\u001b[0;34m(\u001b[0m\u001b[0me\u001b[0m\u001b[0;34m.\u001b[0m\u001b[0m__traceback__\u001b[0m\u001b[0;34m)\u001b[0m\u001b[0;34m\u001b[0m\u001b[0;34m\u001b[0m\u001b[0m\n",
            "\u001b[0;32m/usr/local/lib/python3.10/dist-packages/keras/src/engine/training.py\u001b[0m in \u001b[0;36mfit\u001b[0;34m(self, x, y, batch_size, epochs, verbose, callbacks, validation_split, validation_data, shuffle, class_weight, sample_weight, initial_epoch, steps_per_epoch, validation_steps, validation_batch_size, validation_freq, max_queue_size, workers, use_multiprocessing)\u001b[0m\n\u001b[1;32m   1805\u001b[0m                         ):\n\u001b[1;32m   1806\u001b[0m                             \u001b[0mcallbacks\u001b[0m\u001b[0;34m.\u001b[0m\u001b[0mon_train_batch_begin\u001b[0m\u001b[0;34m(\u001b[0m\u001b[0mstep\u001b[0m\u001b[0;34m)\u001b[0m\u001b[0;34m\u001b[0m\u001b[0;34m\u001b[0m\u001b[0m\n\u001b[0;32m-> 1807\u001b[0;31m                             \u001b[0mtmp_logs\u001b[0m \u001b[0;34m=\u001b[0m \u001b[0mself\u001b[0m\u001b[0;34m.\u001b[0m\u001b[0mtrain_function\u001b[0m\u001b[0;34m(\u001b[0m\u001b[0miterator\u001b[0m\u001b[0;34m)\u001b[0m\u001b[0;34m\u001b[0m\u001b[0;34m\u001b[0m\u001b[0m\n\u001b[0m\u001b[1;32m   1808\u001b[0m                             \u001b[0;32mif\u001b[0m \u001b[0mdata_handler\u001b[0m\u001b[0;34m.\u001b[0m\u001b[0mshould_sync\u001b[0m\u001b[0;34m:\u001b[0m\u001b[0;34m\u001b[0m\u001b[0;34m\u001b[0m\u001b[0m\n\u001b[1;32m   1809\u001b[0m                                 \u001b[0mcontext\u001b[0m\u001b[0;34m.\u001b[0m\u001b[0masync_wait\u001b[0m\u001b[0;34m(\u001b[0m\u001b[0;34m)\u001b[0m\u001b[0;34m\u001b[0m\u001b[0;34m\u001b[0m\u001b[0m\n",
            "\u001b[0;32m/usr/local/lib/python3.10/dist-packages/tensorflow/python/util/traceback_utils.py\u001b[0m in \u001b[0;36merror_handler\u001b[0;34m(*args, **kwargs)\u001b[0m\n\u001b[1;32m    148\u001b[0m     \u001b[0mfiltered_tb\u001b[0m \u001b[0;34m=\u001b[0m \u001b[0;32mNone\u001b[0m\u001b[0;34m\u001b[0m\u001b[0;34m\u001b[0m\u001b[0m\n\u001b[1;32m    149\u001b[0m     \u001b[0;32mtry\u001b[0m\u001b[0;34m:\u001b[0m\u001b[0;34m\u001b[0m\u001b[0;34m\u001b[0m\u001b[0m\n\u001b[0;32m--> 150\u001b[0;31m       \u001b[0;32mreturn\u001b[0m \u001b[0mfn\u001b[0m\u001b[0;34m(\u001b[0m\u001b[0;34m*\u001b[0m\u001b[0margs\u001b[0m\u001b[0;34m,\u001b[0m \u001b[0;34m**\u001b[0m\u001b[0mkwargs\u001b[0m\u001b[0;34m)\u001b[0m\u001b[0;34m\u001b[0m\u001b[0;34m\u001b[0m\u001b[0m\n\u001b[0m\u001b[1;32m    151\u001b[0m     \u001b[0;32mexcept\u001b[0m \u001b[0mException\u001b[0m \u001b[0;32mas\u001b[0m \u001b[0me\u001b[0m\u001b[0;34m:\u001b[0m\u001b[0;34m\u001b[0m\u001b[0;34m\u001b[0m\u001b[0m\n\u001b[1;32m    152\u001b[0m       \u001b[0mfiltered_tb\u001b[0m \u001b[0;34m=\u001b[0m \u001b[0m_process_traceback_frames\u001b[0m\u001b[0;34m(\u001b[0m\u001b[0me\u001b[0m\u001b[0;34m.\u001b[0m\u001b[0m__traceback__\u001b[0m\u001b[0;34m)\u001b[0m\u001b[0;34m\u001b[0m\u001b[0;34m\u001b[0m\u001b[0m\n",
            "\u001b[0;32m/usr/local/lib/python3.10/dist-packages/tensorflow/python/eager/polymorphic_function/polymorphic_function.py\u001b[0m in \u001b[0;36m__call__\u001b[0;34m(self, *args, **kwds)\u001b[0m\n\u001b[1;32m    830\u001b[0m \u001b[0;34m\u001b[0m\u001b[0m\n\u001b[1;32m    831\u001b[0m       \u001b[0;32mwith\u001b[0m \u001b[0mOptionalXlaContext\u001b[0m\u001b[0;34m(\u001b[0m\u001b[0mself\u001b[0m\u001b[0;34m.\u001b[0m\u001b[0m_jit_compile\u001b[0m\u001b[0;34m)\u001b[0m\u001b[0;34m:\u001b[0m\u001b[0;34m\u001b[0m\u001b[0;34m\u001b[0m\u001b[0m\n\u001b[0;32m--> 832\u001b[0;31m         \u001b[0mresult\u001b[0m \u001b[0;34m=\u001b[0m \u001b[0mself\u001b[0m\u001b[0;34m.\u001b[0m\u001b[0m_call\u001b[0m\u001b[0;34m(\u001b[0m\u001b[0;34m*\u001b[0m\u001b[0margs\u001b[0m\u001b[0;34m,\u001b[0m \u001b[0;34m**\u001b[0m\u001b[0mkwds\u001b[0m\u001b[0;34m)\u001b[0m\u001b[0;34m\u001b[0m\u001b[0;34m\u001b[0m\u001b[0m\n\u001b[0m\u001b[1;32m    833\u001b[0m \u001b[0;34m\u001b[0m\u001b[0m\n\u001b[1;32m    834\u001b[0m       \u001b[0mnew_tracing_count\u001b[0m \u001b[0;34m=\u001b[0m \u001b[0mself\u001b[0m\u001b[0;34m.\u001b[0m\u001b[0mexperimental_get_tracing_count\u001b[0m\u001b[0;34m(\u001b[0m\u001b[0;34m)\u001b[0m\u001b[0;34m\u001b[0m\u001b[0;34m\u001b[0m\u001b[0m\n",
            "\u001b[0;32m/usr/local/lib/python3.10/dist-packages/tensorflow/python/eager/polymorphic_function/polymorphic_function.py\u001b[0m in \u001b[0;36m_call\u001b[0;34m(self, *args, **kwds)\u001b[0m\n\u001b[1;32m    866\u001b[0m       \u001b[0;31m# In this case we have created variables on the first call, so we run the\u001b[0m\u001b[0;34m\u001b[0m\u001b[0;34m\u001b[0m\u001b[0m\n\u001b[1;32m    867\u001b[0m       \u001b[0;31m# defunned version which is guaranteed to never create variables.\u001b[0m\u001b[0;34m\u001b[0m\u001b[0;34m\u001b[0m\u001b[0m\n\u001b[0;32m--> 868\u001b[0;31m       return tracing_compilation.call_function(\n\u001b[0m\u001b[1;32m    869\u001b[0m           \u001b[0margs\u001b[0m\u001b[0;34m,\u001b[0m \u001b[0mkwds\u001b[0m\u001b[0;34m,\u001b[0m \u001b[0mself\u001b[0m\u001b[0;34m.\u001b[0m\u001b[0m_no_variable_creation_config\u001b[0m\u001b[0;34m\u001b[0m\u001b[0;34m\u001b[0m\u001b[0m\n\u001b[1;32m    870\u001b[0m       )\n",
            "\u001b[0;32m/usr/local/lib/python3.10/dist-packages/tensorflow/python/eager/polymorphic_function/tracing_compilation.py\u001b[0m in \u001b[0;36mcall_function\u001b[0;34m(args, kwargs, tracing_options)\u001b[0m\n\u001b[1;32m    137\u001b[0m   \u001b[0mbound_args\u001b[0m \u001b[0;34m=\u001b[0m \u001b[0mfunction\u001b[0m\u001b[0;34m.\u001b[0m\u001b[0mfunction_type\u001b[0m\u001b[0;34m.\u001b[0m\u001b[0mbind\u001b[0m\u001b[0;34m(\u001b[0m\u001b[0;34m*\u001b[0m\u001b[0margs\u001b[0m\u001b[0;34m,\u001b[0m \u001b[0;34m**\u001b[0m\u001b[0mkwargs\u001b[0m\u001b[0;34m)\u001b[0m\u001b[0;34m\u001b[0m\u001b[0;34m\u001b[0m\u001b[0m\n\u001b[1;32m    138\u001b[0m   \u001b[0mflat_inputs\u001b[0m \u001b[0;34m=\u001b[0m \u001b[0mfunction\u001b[0m\u001b[0;34m.\u001b[0m\u001b[0mfunction_type\u001b[0m\u001b[0;34m.\u001b[0m\u001b[0munpack_inputs\u001b[0m\u001b[0;34m(\u001b[0m\u001b[0mbound_args\u001b[0m\u001b[0;34m)\u001b[0m\u001b[0;34m\u001b[0m\u001b[0;34m\u001b[0m\u001b[0m\n\u001b[0;32m--> 139\u001b[0;31m   return function._call_flat(  # pylint: disable=protected-access\n\u001b[0m\u001b[1;32m    140\u001b[0m       \u001b[0mflat_inputs\u001b[0m\u001b[0;34m,\u001b[0m \u001b[0mcaptured_inputs\u001b[0m\u001b[0;34m=\u001b[0m\u001b[0mfunction\u001b[0m\u001b[0;34m.\u001b[0m\u001b[0mcaptured_inputs\u001b[0m\u001b[0;34m\u001b[0m\u001b[0;34m\u001b[0m\u001b[0m\n\u001b[1;32m    141\u001b[0m   )\n",
            "\u001b[0;32m/usr/local/lib/python3.10/dist-packages/tensorflow/python/eager/polymorphic_function/concrete_function.py\u001b[0m in \u001b[0;36m_call_flat\u001b[0;34m(self, tensor_inputs, captured_inputs)\u001b[0m\n\u001b[1;32m   1321\u001b[0m         and executing_eagerly):\n\u001b[1;32m   1322\u001b[0m       \u001b[0;31m# No tape is watching; skip to running the function.\u001b[0m\u001b[0;34m\u001b[0m\u001b[0;34m\u001b[0m\u001b[0m\n\u001b[0;32m-> 1323\u001b[0;31m       \u001b[0;32mreturn\u001b[0m \u001b[0mself\u001b[0m\u001b[0;34m.\u001b[0m\u001b[0m_inference_function\u001b[0m\u001b[0;34m.\u001b[0m\u001b[0mcall_preflattened\u001b[0m\u001b[0;34m(\u001b[0m\u001b[0margs\u001b[0m\u001b[0;34m)\u001b[0m\u001b[0;34m\u001b[0m\u001b[0;34m\u001b[0m\u001b[0m\n\u001b[0m\u001b[1;32m   1324\u001b[0m     forward_backward = self._select_forward_and_backward_functions(\n\u001b[1;32m   1325\u001b[0m         \u001b[0margs\u001b[0m\u001b[0;34m,\u001b[0m\u001b[0;34m\u001b[0m\u001b[0;34m\u001b[0m\u001b[0m\n",
            "\u001b[0;32m/usr/local/lib/python3.10/dist-packages/tensorflow/python/eager/polymorphic_function/atomic_function.py\u001b[0m in \u001b[0;36mcall_preflattened\u001b[0;34m(self, args)\u001b[0m\n\u001b[1;32m    214\u001b[0m   \u001b[0;32mdef\u001b[0m \u001b[0mcall_preflattened\u001b[0m\u001b[0;34m(\u001b[0m\u001b[0mself\u001b[0m\u001b[0;34m,\u001b[0m \u001b[0margs\u001b[0m\u001b[0;34m:\u001b[0m \u001b[0mSequence\u001b[0m\u001b[0;34m[\u001b[0m\u001b[0mcore\u001b[0m\u001b[0;34m.\u001b[0m\u001b[0mTensor\u001b[0m\u001b[0;34m]\u001b[0m\u001b[0;34m)\u001b[0m \u001b[0;34m->\u001b[0m \u001b[0mAny\u001b[0m\u001b[0;34m:\u001b[0m\u001b[0;34m\u001b[0m\u001b[0;34m\u001b[0m\u001b[0m\n\u001b[1;32m    215\u001b[0m     \u001b[0;34m\"\"\"Calls with flattened tensor inputs and returns the structured output.\"\"\"\u001b[0m\u001b[0;34m\u001b[0m\u001b[0;34m\u001b[0m\u001b[0m\n\u001b[0;32m--> 216\u001b[0;31m     \u001b[0mflat_outputs\u001b[0m \u001b[0;34m=\u001b[0m \u001b[0mself\u001b[0m\u001b[0;34m.\u001b[0m\u001b[0mcall_flat\u001b[0m\u001b[0;34m(\u001b[0m\u001b[0;34m*\u001b[0m\u001b[0margs\u001b[0m\u001b[0;34m)\u001b[0m\u001b[0;34m\u001b[0m\u001b[0;34m\u001b[0m\u001b[0m\n\u001b[0m\u001b[1;32m    217\u001b[0m     \u001b[0;32mreturn\u001b[0m \u001b[0mself\u001b[0m\u001b[0;34m.\u001b[0m\u001b[0mfunction_type\u001b[0m\u001b[0;34m.\u001b[0m\u001b[0mpack_output\u001b[0m\u001b[0;34m(\u001b[0m\u001b[0mflat_outputs\u001b[0m\u001b[0;34m)\u001b[0m\u001b[0;34m\u001b[0m\u001b[0;34m\u001b[0m\u001b[0m\n\u001b[1;32m    218\u001b[0m \u001b[0;34m\u001b[0m\u001b[0m\n",
            "\u001b[0;32m/usr/local/lib/python3.10/dist-packages/tensorflow/python/eager/polymorphic_function/atomic_function.py\u001b[0m in \u001b[0;36mcall_flat\u001b[0;34m(self, *args)\u001b[0m\n\u001b[1;32m    249\u001b[0m         \u001b[0;32mwith\u001b[0m \u001b[0mrecord\u001b[0m\u001b[0;34m.\u001b[0m\u001b[0mstop_recording\u001b[0m\u001b[0;34m(\u001b[0m\u001b[0;34m)\u001b[0m\u001b[0;34m:\u001b[0m\u001b[0;34m\u001b[0m\u001b[0;34m\u001b[0m\u001b[0m\n\u001b[1;32m    250\u001b[0m           \u001b[0;32mif\u001b[0m \u001b[0mself\u001b[0m\u001b[0;34m.\u001b[0m\u001b[0m_bound_context\u001b[0m\u001b[0;34m.\u001b[0m\u001b[0mexecuting_eagerly\u001b[0m\u001b[0;34m(\u001b[0m\u001b[0;34m)\u001b[0m\u001b[0;34m:\u001b[0m\u001b[0;34m\u001b[0m\u001b[0;34m\u001b[0m\u001b[0m\n\u001b[0;32m--> 251\u001b[0;31m             outputs = self._bound_context.call_function(\n\u001b[0m\u001b[1;32m    252\u001b[0m                 \u001b[0mself\u001b[0m\u001b[0;34m.\u001b[0m\u001b[0mname\u001b[0m\u001b[0;34m,\u001b[0m\u001b[0;34m\u001b[0m\u001b[0;34m\u001b[0m\u001b[0m\n\u001b[1;32m    253\u001b[0m                 \u001b[0mlist\u001b[0m\u001b[0;34m(\u001b[0m\u001b[0margs\u001b[0m\u001b[0;34m)\u001b[0m\u001b[0;34m,\u001b[0m\u001b[0;34m\u001b[0m\u001b[0;34m\u001b[0m\u001b[0m\n",
            "\u001b[0;32m/usr/local/lib/python3.10/dist-packages/tensorflow/python/eager/context.py\u001b[0m in \u001b[0;36mcall_function\u001b[0;34m(self, name, tensor_inputs, num_outputs)\u001b[0m\n\u001b[1;32m   1484\u001b[0m     \u001b[0mcancellation_context\u001b[0m \u001b[0;34m=\u001b[0m \u001b[0mcancellation\u001b[0m\u001b[0;34m.\u001b[0m\u001b[0mcontext\u001b[0m\u001b[0;34m(\u001b[0m\u001b[0;34m)\u001b[0m\u001b[0;34m\u001b[0m\u001b[0;34m\u001b[0m\u001b[0m\n\u001b[1;32m   1485\u001b[0m     \u001b[0;32mif\u001b[0m \u001b[0mcancellation_context\u001b[0m \u001b[0;32mis\u001b[0m \u001b[0;32mNone\u001b[0m\u001b[0;34m:\u001b[0m\u001b[0;34m\u001b[0m\u001b[0;34m\u001b[0m\u001b[0m\n\u001b[0;32m-> 1486\u001b[0;31m       outputs = execute.execute(\n\u001b[0m\u001b[1;32m   1487\u001b[0m           \u001b[0mname\u001b[0m\u001b[0;34m.\u001b[0m\u001b[0mdecode\u001b[0m\u001b[0;34m(\u001b[0m\u001b[0;34m\"utf-8\"\u001b[0m\u001b[0;34m)\u001b[0m\u001b[0;34m,\u001b[0m\u001b[0;34m\u001b[0m\u001b[0;34m\u001b[0m\u001b[0m\n\u001b[1;32m   1488\u001b[0m           \u001b[0mnum_outputs\u001b[0m\u001b[0;34m=\u001b[0m\u001b[0mnum_outputs\u001b[0m\u001b[0;34m,\u001b[0m\u001b[0;34m\u001b[0m\u001b[0;34m\u001b[0m\u001b[0m\n",
            "\u001b[0;32m/usr/local/lib/python3.10/dist-packages/tensorflow/python/eager/execute.py\u001b[0m in \u001b[0;36mquick_execute\u001b[0;34m(op_name, num_outputs, inputs, attrs, ctx, name)\u001b[0m\n\u001b[1;32m     51\u001b[0m   \u001b[0;32mtry\u001b[0m\u001b[0;34m:\u001b[0m\u001b[0;34m\u001b[0m\u001b[0;34m\u001b[0m\u001b[0m\n\u001b[1;32m     52\u001b[0m     \u001b[0mctx\u001b[0m\u001b[0;34m.\u001b[0m\u001b[0mensure_initialized\u001b[0m\u001b[0;34m(\u001b[0m\u001b[0;34m)\u001b[0m\u001b[0;34m\u001b[0m\u001b[0;34m\u001b[0m\u001b[0m\n\u001b[0;32m---> 53\u001b[0;31m     tensors = pywrap_tfe.TFE_Py_Execute(ctx._handle, device_name, op_name,\n\u001b[0m\u001b[1;32m     54\u001b[0m                                         inputs, attrs, num_outputs)\n\u001b[1;32m     55\u001b[0m   \u001b[0;32mexcept\u001b[0m \u001b[0mcore\u001b[0m\u001b[0;34m.\u001b[0m\u001b[0m_NotOkStatusException\u001b[0m \u001b[0;32mas\u001b[0m \u001b[0me\u001b[0m\u001b[0;34m:\u001b[0m\u001b[0;34m\u001b[0m\u001b[0;34m\u001b[0m\u001b[0m\n",
            "\u001b[0;31mKeyboardInterrupt\u001b[0m: "
          ]
        }
      ]
    },
    {
      "cell_type": "code",
      "source": [
        "\n",
        "y_pred_bin = [0 if(x<=0.5) else 1 for x in y_pred_bin_probs]"
      ],
      "metadata": {
        "id": "2KVsC3EKpCGV"
      },
      "execution_count": null,
      "outputs": []
    },
    {
      "cell_type": "code",
      "source": [
        "# Đánh giá\n",
        "evaluate_model(y_test_bin, y_pred_bin, y_pred_bin_probs, model_type='binary')"
      ],
      "metadata": {
        "id": "b73X9mF_hPAS"
      },
      "execution_count": null,
      "outputs": []
    },
    {
      "cell_type": "code",
      "source": [
        "# MULTI-CLASS\n",
        "\n",
        "# Train\n",
        "labels_dict=collections.Counter(y_train)\n",
        "class_weight = create_class_weight(labels_dict, 0.1)\n",
        "model.fit(X_train, y_train, batch_size=128, epochs=1, class_weight=class_weight)\n",
        "\n",
        "y_pred_proba= model.predict(X_test)\n",
        "y_pred = [np.argmax(x) for x in y_pred_proba]"
      ],
      "metadata": {
        "id": "B20bl4qeSUpG"
      },
      "execution_count": null,
      "outputs": []
    },
    {
      "cell_type": "code",
      "source": [
        "# Đánh giá\n",
        "evaluate_model(y_test, y_pred, y_pred_proba, model_type='multiclass')"
      ],
      "metadata": {
        "id": "i6I9dP6ehZcA"
      },
      "execution_count": null,
      "outputs": []
    }
  ]
}