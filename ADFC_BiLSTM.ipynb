{
  "cells": [
    {
      "cell_type": "code",
      "execution_count": 4,
      "metadata": {
        "id": "fAxAWqqRHlhh"
      },
      "outputs": [],
      "source": [
        "import numpy as np\n",
        "import os\n",
        "import random\n",
        "import csv\n",
        "import collections\n",
        "import math\n",
        "import pandas as pd\n",
        "from keras.preprocessing import sequence\n",
        "from keras.models import Sequential\n",
        "from keras.layers import Dense, Dropout, Activation\n",
        "from keras.layers import Embedding\n",
        "from keras.layers import Bidirectional, LSTM\n",
        "from sklearn.model_selection import train_test_split\n",
        "from sklearn.metrics import accuracy_score, precision_score, recall_score, f1_score, roc_curve, auc, roc_auc_score\n",
        "import matplotlib.pyplot as plt"
      ]
    },
    {
      "cell_type": "code",
      "execution_count": 5,
      "metadata": {
        "colab": {
          "base_uri": "https://localhost:8080/"
        },
        "id": "E7o7M6MxbGKQ",
        "outputId": "a9b67988-462f-439c-dd54-914f1ec3a5d4"
      },
      "outputs": [
        {
          "name": "stdout",
          "output_type": "stream",
          "text": [
            "                         m644136d0.tmodns.net  0\n",
            "0                                  dfg.ca.gov  0\n",
            "1                c4w6wpg81xsbopy8a67.ddns.net  1\n",
            "2                          ace.ojom-mobile.de  0\n",
            "3  pub.3gppnetwork.org.mcdonaldswifi.internal  0\n",
            "4                              cloudforge.com  0\n",
            "   m8aoicy8qous.top  12\n",
            "0    fiddlrxsat.com   4\n",
            "1       verdzq.info  11\n",
            "2  06cag28moasa.top  12\n",
            "3    7liverpool.com   0\n",
            "4  neodatagroup.com   0\n"
          ]
        }
      ],
      "source": [
        "train_path_bin = './DMD-2018-Data set/Task 1/training/training.xlsx'\n",
        "train_path = './DMD-2018-Data set/Task-2/DGA-Train/train.csv'\n",
        "df_train_bin = pd.read_excel(train_path_bin, index_col=None)\n",
        "# Xóa các row có chứa nan\n",
        "df_train_bin = df_train_bin.dropna()\n",
        "print(df_train_bin.head())\n",
        "df_train = pd.read_csv(train_path, index_col=None)\n",
        "# Xóa các row có chứa nan\n",
        "df_train = df_train.dropna()\n",
        "print(df_train.head())\n"
      ]
    },
    {
      "cell_type": "code",
      "execution_count": 6,
      "metadata": {
        "colab": {
          "base_uri": "https://localhost:8080/"
        },
        "id": "VcGLwxGabWRh",
        "outputId": "809641f4-5106-4bea-b0b2-98af5156821b"
      },
      "outputs": [
        {
          "name": "stdout",
          "output_type": "stream",
          "text": [
            "Domains: ['9248c26a0be23c01.net', 'ytubeukhylbhqwsbmbifmiblmbx.info', 'zidnwnki.org', 'qbfnof.dyndns.org', '1uzfyzf5xo7ux1y4czth1pfq856.net']\n",
            "Labels: [1, 1, 1, 1, 1]\n",
            "Domains: ['api.watchstadium.com', 'jaunhbjoxi.com', 'elelg850k4qdgf5x7lgvoxy.ddns.net', 'zgh2nw9azopm.com', 'klhjaqzsma.com']\n",
            "Labels: [0, 4, 2, 12, 4]\n"
          ]
        }
      ],
      "source": [
        "X_test_bin_path = './DMD-2018-Data set/Task 1/testing/second testing/test2.txt'\n",
        "y_test_bin_path = './DMD-2018-Data set/Task 1/testing/second testing/test2label.txt'\n",
        "X_test_path = './DMD-2018-Data set/Task-2/DGA-Test/testing - 2/testing-2.txt'\n",
        "y_test_path = './DMD-2018-Data set/Task-2/DGA-Test/testing - 2/testing-2-label.txt'\n",
        "\n",
        "## BINARY-CLASS\n",
        "# Đọc các domain từ test2.txt\n",
        "with open(X_test_bin_path, 'r') as file:\n",
        "    X_test_bin = file.readlines()\n",
        "    X_test_bin = [line.strip() for line in X_test_bin]  # Loại bỏ khoảng trắng thừa\n",
        "\n",
        "# Đọc các label từ test2label.txt\n",
        "with open(y_test_bin_path, 'r') as file:\n",
        "    y_test_bin = file.readlines()\n",
        "    y_test_bin = [int(line.strip()) for line in y_test_bin]\n",
        "\n",
        "# Kiểm tra kết quả\n",
        "print(\"Domains:\", X_test_bin[:5])\n",
        "print(\"Labels:\", y_test_bin[:5])\n",
        "\n",
        "## MULTI-CLASS\n",
        "# Đọc các domain từ testing-2.txt\n",
        "with open(X_test_path, 'r') as file:\n",
        "    X_test = file.readlines()\n",
        "    X_test = [line.strip() for line in X_test]  # Loại bỏ khoảng trắng thừa\n",
        "\n",
        "# Đọc các label từ testing-2-label.txt\n",
        "with open(y_test_path, 'r') as file:\n",
        "    y_test = file.readlines()\n",
        "    y_test = [int(line.strip()) for line in y_test]\n",
        "\n",
        "# Kiểm tra kết quả\n",
        "print(\"Domains:\", X_test[:5])\n",
        "print(\"Labels:\", y_test[:5])\n"
      ]
    },
    {
      "cell_type": "code",
      "execution_count": 7,
      "metadata": {
        "colab": {
          "base_uri": "https://localhost:8080/"
        },
        "id": "mNZeIQKcJs0L",
        "outputId": "3087a0b0-167a-4027-c074-bde941f3a588"
      },
      "outputs": [
        {
          "name": "stdout",
          "output_type": "stream",
          "text": [
            "<class 'pandas.core.series.Series'>\n",
            "RangeIndex: 790738 entries, 0 to 790737\n",
            "Series name: 0\n",
            "Non-Null Count   Dtype\n",
            "--------------   -----\n",
            "790738 non-null  int64\n",
            "dtypes: int64(1)\n",
            "memory usage: 6.0 MB\n",
            "None\n",
            "<class 'pandas.core.series.Series'>\n",
            "RangeIndex: 397776 entries, 0 to 397775\n",
            "Series name: 12\n",
            "Non-Null Count   Dtype\n",
            "--------------   -----\n",
            "397776 non-null  int64\n",
            "dtypes: int64(1)\n",
            "memory usage: 3.0 MB\n",
            "None\n"
          ]
        }
      ],
      "source": [
        "# Chia dữ liệu trong df_train_bin thành features và labels\n",
        "X_train_bin = df_train_bin.iloc[:, 0]  # Lấy dữ liệu từ cột đầu tiên\n",
        "y_train_bin = df_train_bin.iloc[:, 1]  # Lấy dữ liệu từ cột thứ hai\n",
        "\n",
        "# Chia dữ liệu trong df_train thành features và labels\n",
        "X_train = df_train.iloc[:, 0]  # Lấy dữ liệu từ cột đầu tiên\n",
        "y_train = df_train.iloc[:, 1]  # Lấy dữ liệu từ cột thứ hai\n",
        "\n",
        "print(y_train_bin.info())\n",
        "print(y_train.info())"
      ]
    },
    {
      "cell_type": "code",
      "execution_count": 8,
      "metadata": {
        "colab": {
          "base_uri": "https://localhost:8080/"
        },
        "id": "1R7An-HQjCLh",
        "outputId": "e8ac1b4b-fdd6-4690-91c3-0987770ee110"
      },
      "outputs": [
        {
          "data": {
            "text/plain": [
              "['fiddlrxsat.com',\n",
              " 'verdzq.info',\n",
              " '06cag28moasa.top',\n",
              " '7liverpool.com',\n",
              " 'neodatagroup.com',\n",
              " 'oonsvfskdcwnv.net',\n",
              " 'aniways.blob.core.windows.net',\n",
              " 'orleifeduxgeqfieicyrkibypcetk.ru',\n",
              " 'aqhizhcuhqvwpnovhwowobmqaqgy.biz',\n",
              " 'efkkkbcecbocdbaa.org']"
            ]
          },
          "execution_count": 8,
          "metadata": {},
          "output_type": "execute_result"
        }
      ],
      "source": [
        "# Tat ca features:\n",
        "X = X_train.tolist() + X_train_bin.tolist() + X_test + X_test_bin\n",
        "X[:10]"
      ]
    },
    {
      "cell_type": "code",
      "execution_count": 9,
      "metadata": {
        "id": "wipaFsHcLcIF"
      },
      "outputs": [],
      "source": [
        "# Tạo dictionary, ánh xạ mỗi kí tự sang 1 số nguyên\n",
        "valid_chars = {x: idx + 1 for idx, x in enumerate(set(''.join([str(domain) for domain in X])))}\n",
        "\n",
        "max_features = len(valid_chars) + 1\n",
        "maxlen = np.max([len(str(x)) for x in X])"
      ]
    },
    {
      "cell_type": "code",
      "execution_count": 10,
      "metadata": {
        "id": "kvJXwWttchlK"
      },
      "outputs": [],
      "source": [
        "# Ánh xạ và padding\n",
        "X_train = [[valid_chars[y] for y in str(x)] for x in X_train.tolist()]\n",
        "X_train = sequence.pad_sequences(X_train, maxlen=maxlen)\n",
        "X_train_bin = [[valid_chars[y] for y in str(x)] for x in X_train_bin.tolist()]\n",
        "X_train_bin = sequence.pad_sequences(X_train_bin, maxlen=maxlen)\n",
        "\n",
        "X_test = [[valid_chars[y] for y in str(x)] for x in X_test]\n",
        "X_test = sequence.pad_sequences(X_test, maxlen=maxlen)\n",
        "X_test_bin = [[valid_chars[y] for y in str(x)] for x in X_test_bin]\n",
        "X_test_bin = sequence.pad_sequences(X_test_bin, maxlen=maxlen)"
      ]
    },
    {
      "cell_type": "code",
      "execution_count": 11,
      "metadata": {
        "colab": {
          "base_uri": "https://localhost:8080/"
        },
        "id": "-buVj6N3tJc0",
        "outputId": "1744c162-5f57-47c4-b8c2-4c0fda7b1aa0"
      },
      "outputs": [
        {
          "name": "stdout",
          "output_type": "stream",
          "text": [
            "Số lượng trong y_train:\n",
            "Label 0: 100000 mẫu\n",
            "Label 1: 15000 mẫu\n",
            "Label 2: 15000 mẫu\n",
            "Label 3: 15000 mẫu\n",
            "Label 4: 15000 mẫu\n",
            "Label 5: 15000 mẫu\n",
            "Label 6: 15000 mẫu\n",
            "Label 7: 12777 mẫu\n",
            "Label 8: 15000 mẫu\n",
            "Label 9: 15000 mẫu\n",
            "Label 10: 15000 mẫu\n",
            "Label 11: 15000 mẫu\n",
            "Label 12: 14999 mẫu\n",
            "Label 13: 15000 mẫu\n",
            "Label 14: 15000 mẫu\n",
            "Label 15: 15000 mẫu\n",
            "Label 16: 15000 mẫu\n",
            "Label 17: 15000 mẫu\n",
            "Label 18: 15000 mẫu\n",
            "Label 19: 15000 mẫu\n",
            "Label 20: 15000 mẫu\n",
            "-------------------------------------------\n",
            "Số lượng trong y_test:\n",
            "Label 0: 100000 mẫu\n",
            "Label 1: 15000 mẫu\n",
            "Label 2: 15000 mẫu\n",
            "Label 3: 15000 mẫu\n",
            "Label 4: 15000 mẫu\n",
            "Label 5: 15000 mẫu\n",
            "Label 6: 15000 mẫu\n",
            "Label 7: 12777 mẫu\n",
            "Label 8: 15000 mẫu\n",
            "Label 9: 15000 mẫu\n",
            "Label 10: 15000 mẫu\n",
            "Label 11: 15000 mẫu\n",
            "Label 12: 14999 mẫu\n",
            "Label 13: 15000 mẫu\n",
            "Label 14: 15000 mẫu\n",
            "Label 15: 15000 mẫu\n",
            "Label 16: 15000 mẫu\n",
            "Label 17: 15000 mẫu\n",
            "Label 18: 15000 mẫu\n",
            "Label 19: 15000 mẫu\n",
            "Label 20: 15000 mẫu\n"
          ]
        }
      ],
      "source": [
        "# Đếm số lượng mỗi label trong y_train và y_test\n",
        "count_train = collections.Counter(y_train)\n",
        "count_test = collections.Counter(y_test)\n",
        "\n",
        "print(\"Số lượng trong y_train:\")\n",
        "for key in sorted(count_train):\n",
        "    print(f\"Label {key}: {count_train[key]} mẫu\")\n",
        "print('-------------------------------------------')\n",
        "print(\"Số lượng trong y_test:\")\n",
        "for key in sorted(count_test):\n",
        "    print(f\"Label {key}: {count_train[key]} mẫu\")"
      ]
    },
    {
      "cell_type": "code",
      "execution_count": 12,
      "metadata": {
        "id": "ZQ2PZ4p-OwHY"
      },
      "outputs": [],
      "source": [
        "def build_binary_model(max_features, maxlen):\n",
        "    \"\"\"Build LSTM model for two-class classification using Bi-LSTM\"\"\"\n",
        "    model = Sequential()\n",
        "    model.add(Embedding(max_features, 128, input_length=maxlen))\n",
        "    model.add(Bidirectional(LSTM(128)))\n",
        "    model.add(Dropout(0.5))\n",
        "    model.add(Dense(1))\n",
        "    model.add(Activation('sigmoid'))\n",
        "\n",
        "    model.compile(loss='binary_crossentropy', optimizer='rmsprop')\n",
        "\n",
        "    return model\n",
        "\n",
        "def build_multiclass_model(max_features, maxlen):\n",
        "    \"\"\"Build multiclass LSTM model for multiclass classification using Bi-LSTM\"\"\"\n",
        "    model = Sequential()\n",
        "    model.add(Embedding(max_features, 128, input_length=maxlen))\n",
        "    model.add(Bidirectional(LSTM(128)))\n",
        "    model.add(Dropout(0.5))\n",
        "    model.add(Dense(21))  # Có 21 loại\n",
        "    model.add(Activation('softmax'))\n",
        "\n",
        "    model.compile(loss='sparse_categorical_crossentropy', optimizer='rmsprop')\n",
        "\n",
        "    return model"
      ]
    },
    {
      "cell_type": "code",
      "execution_count": 13,
      "metadata": {
        "id": "mCDpI4oEQieu"
      },
      "outputs": [],
      "source": [
        "def create_class_weight(labels_dict, mu):\n",
        "    \"\"\"Create weight based on the number of domain name in the dataset\"\"\"\n",
        "    total = np.sum(list(labels_dict.values()))\n",
        "    class_weight = dict()\n",
        "\n",
        "    for key in labels_dict.keys():\n",
        "        # Calculate the class weight using the provided formula\n",
        "        score = math.pow(total / float(labels_dict[key]), mu)\n",
        "        class_weight[key] = score\n",
        "\n",
        "    return class_weight"
      ]
    },
    {
      "cell_type": "code",
      "execution_count": 14,
      "metadata": {
        "id": "V9Gdgu8auVB7"
      },
      "outputs": [],
      "source": [
        "y_test_bin = np.array(y_test_bin)\n",
        "y_test = np.array(y_test)"
      ]
    },
    {
      "cell_type": "code",
      "execution_count": 15,
      "metadata": {
        "colab": {
          "base_uri": "https://localhost:8080/"
        },
        "id": "kHSVui5eoUZb",
        "outputId": "4ac1c1ea-8328-456a-9550-f54cf3f7b565"
      },
      "outputs": [
        {
          "name": "stdout",
          "output_type": "stream",
          "text": [
            "(790738, 196)\n",
            "(790738,)\n",
            "(2922, 196)\n",
            "(2922,)\n",
            "---------------\n",
            "(397776, 196)\n",
            "(397776,)\n",
            "(103200, 196)\n",
            "(103200,)\n"
          ]
        }
      ],
      "source": [
        "print(X_train_bin.shape)\n",
        "print(y_train_bin.shape)\n",
        "print(X_test_bin.shape)\n",
        "print(y_test_bin.shape)\n",
        "print('---------------')\n",
        "print(X_train.shape)\n",
        "print(y_train.shape)\n",
        "print(X_test.shape)\n",
        "print(y_test.shape)"
      ]
    },
    {
      "cell_type": "code",
      "execution_count": 16,
      "metadata": {
        "id": "Wg614ubKSBEe"
      },
      "outputs": [],
      "source": [
        "# Tạo model\n",
        "binary_model = build_binary_model(max_features, maxlen)\n",
        "model = build_multiclass_model(max_features, maxlen)"
      ]
    },
    {
      "cell_type": "code",
      "execution_count": 17,
      "metadata": {
        "id": "WUz001ZVUA93"
      },
      "outputs": [],
      "source": [
        "EPOCHS = 20"
      ]
    },
    {
      "cell_type": "code",
      "execution_count": 18,
      "metadata": {
        "id": "4UnF69yGVpfo"
      },
      "outputs": [],
      "source": [
        "def evaluate_model(y_true, y_pred, y_pred_proba, model_type='binary'):\n",
        "    # Tính các chỉ số đánh giá\n",
        "    acc = accuracy_score(y_true, y_pred)\n",
        "    prec = precision_score(y_true, y_pred, average='binary' if model_type == 'binary' else 'macro')\n",
        "    rec = recall_score(y_true, y_pred, average='binary' if model_type == 'binary' else 'macro')\n",
        "    f1 = f1_score(y_true, y_pred, average='binary' if model_type == 'binary' else 'macro')\n",
        "\n",
        "    # In các chỉ số\n",
        "    print(f\"Accuracy: {acc}\")\n",
        "    print(f\"Precision: {prec}\")\n",
        "    print(f\"Recall: {rec}\")\n",
        "    print(f\"F1 Score: {f1}\")\n",
        "\n",
        "    # Vẽ đường cong ROC và tính AUC\n",
        "    if model_type == 'binary':\n",
        "        fpr, tpr, thresholds = roc_curve(y_true, y_pred_proba)\n",
        "        roc_auc = auc(fpr, tpr)\n",
        "    elif model_type == 'multiclass':\n",
        "        # Tính AUC cho phân loại đa lớp\n",
        "        roc_auc = roc_auc_score(y_true, y_pred_proba, multi_class='ovr')\n",
        "\n",
        "    plt.figure()\n",
        "    if model_type == 'binary':\n",
        "        plt.plot(fpr, tpr, color='darkorange', lw=2, label=f'ROC curve (area = {roc_auc:.2f})')\n",
        "        plt.plot([0, 1], [0, 1], color='navy', lw=2, linestyle='--')\n",
        "    elif model_type == 'multiclass':\n",
        "        # Không vẽ đường cong ROC cho phân loại đa lớp ở đây\n",
        "        plt.title('Multiclass classification - ROC AUC provided')\n",
        "    plt.xlim([0.0, 1.0])\n",
        "    plt.ylim([0.0, 1.05])\n",
        "    plt.xlabel('False Positive Rate')\n",
        "    plt.ylabel('True Positive Rate')\n",
        "    plt.title('Receiver Operating Characteristic')\n",
        "    plt.legend(loc=\"lower right\")\n",
        "    plt.show()\n",
        "\n",
        "    return acc, prec, rec, f1, roc_auc"
      ]
    },
    {
      "cell_type": "code",
      "execution_count": 19,
      "metadata": {
        "colab": {
          "base_uri": "https://localhost:8080/",
          "height": 373
        },
        "id": "Pl5SKq6Ian39",
        "outputId": "94495adf-74bf-440a-b2b1-330827cb1078"
      },
      "outputs": [
        {
          "name": "stdout",
          "output_type": "stream",
          "text": [
            "6178/6178 [==============================] - 3351s 541ms/step - loss: 0.1286\n",
            "92/92 [==============================] - 11s 107ms/step\n",
            "[[0.29507813]\n",
            " [0.98267037]\n",
            " [0.9338382 ]\n",
            " [0.9964258 ]\n",
            " [0.9954341 ]]\n"
          ]
        }
      ],
      "source": [
        "# BINARY-CLASS\n",
        "\n",
        "# Train\n",
        "labels_dict=collections.Counter(y_train_bin)\n",
        "class_weight = create_class_weight(labels_dict, 0.1)\n",
        "binary_model.fit(X_train_bin, y_train_bin, batch_size=128, epochs=1, class_weight=class_weight)\n",
        "\n",
        "y_pred_bin_probs = binary_model.predict(X_test_bin)\n",
        "print(y_pred_bin_probs[:5])"
      ]
    },
    {
      "cell_type": "code",
      "execution_count": 20,
      "metadata": {
        "id": "2KVsC3EKpCGV"
      },
      "outputs": [],
      "source": [
        "\n",
        "y_pred_bin = [0 if(x<=0.5) else 1 for x in y_pred_bin_probs]"
      ]
    },
    {
      "cell_type": "code",
      "execution_count": 21,
      "metadata": {
        "id": "b73X9mF_hPAS"
      },
      "outputs": [
        {
          "name": "stdout",
          "output_type": "stream",
          "text": [
            "Accuracy: 0.7501711156741958\n",
            "Precision: 0.9995029821073559\n",
            "Recall: 0.733941605839416\n",
            "F1 Score: 0.8463804713804713\n"
          ]
        },
        {
          "data": {
            "image/png": "[encoded data removed]",
            "text/plain": [
              "<Figure size 640x480 with 1 Axes>"
            ]
          },
          "metadata": {},
          "output_type": "display_data"
        },
        {
          "data": {
            "text/plain": [
              "(0.7501711156741958,\n",
              " 0.9995029821073559,\n",
              " 0.733941605839416,\n",
              " 0.8463804713804713,\n",
              " 0.9502927729205102)"
            ]
          },
          "execution_count": 21,
          "metadata": {},
          "output_type": "execute_result"
        }
      ],
      "source": [
        "# Đánh giá\n",
        "evaluate_model(y_test_bin, y_pred_bin, y_pred_bin_probs, model_type='binary')"
      ]
    },
    {
      "cell_type": "code",
      "execution_count": 22,
      "metadata": {
        "id": "B20bl4qeSUpG"
      },
      "outputs": [
        {
          "name": "stdout",
          "output_type": "stream",
          "text": [
            "3108/3108 [==============================] - 1555s 499ms/step - loss: 0.7546\n",
            "3225/3225 [==============================] - 355s 110ms/step\n"
          ]
        }
      ],
      "source": [
        "# MULTI-CLASS\n",
        "\n",
        "# Train             \n",
        "labels_dict=collections.Counter(y_train)\n",
        "class_weight = create_class_weight(labels_dict, 0.1)\n",
        "model.fit(X_train, y_train, batch_size=128, epochs=1, class_weight=class_weight)\n",
        "\n",
        "y_pred_proba= model.predict(X_test)\n",
        "y_pred = [np.argmax(x) for x in y_pred_proba]"
      ]
    },
    {
      "cell_type": "code",
      "execution_count": 23,
      "metadata": {
        "id": "i6I9dP6ehZcA"
      },
      "outputs": [
        {
          "name": "stdout",
          "output_type": "stream",
          "text": [
            "Accuracy: 0.6559205426356589\n",
            "Precision: 0.46537777897165145\n",
            "Recall: 0.5627540076105243\n",
            "F1 Score: 0.46509967128779617\n"
          ]
        },
        {
          "name": "stderr",
          "output_type": "stream",
          "text": [
            "No artists with labels found to put in legend.  Note that artists whose label start with an underscore are ignored when legend() is called with no argument.\n"
          ]
        },
        {
          "data": {
            "image/png": "[encoded data removed]",
            "text/plain": [
              "<Figure size 640x480 with 1 Axes>"
            ]
          },
          "metadata": {},
          "output_type": "display_data"
        },
        {
          "data": {
            "text/plain": [
              "(0.6559205426356589,\n",
              " 0.46537777897165145,\n",
              " 0.5627540076105243,\n",
              " 0.46509967128779617,\n",
              " 0.9309938609996783)"
            ]
          },
          "execution_count": 23,
          "metadata": {},
          "output_type": "execute_result"
        }
      ],
      "source": [
        "# Đánh giá\n",
        "evaluate_model(y_test, y_pred, y_pred_proba, model_type='multiclass')"
      ]
    }
  ],
  "metadata": {
    "colab": {
      "provenance": []
    },
    "kernelspec": {
      "display_name": "Python 3",
      "name": "python3"
    },
    "language_info": {
      "codemirror_mode": {
        "name": "ipython",
        "version": 3
      },
      "file_extension": ".py",
      "mimetype": "text/x-python",
      "name": "python",
      "nbconvert_exporter": "python",
      "pygments_lexer": "ipython3",
      "version": "3.9.16"
    }
  },
  "nbformat": 4,
  "nbformat_minor": 0
}
